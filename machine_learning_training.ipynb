{
 "cells": [
  {
   "cell_type": "code",
   "execution_count": 1,
   "id": "d42976b7",
   "metadata": {},
   "outputs": [],
   "source": [
    "import pandas as pd\n",
    "import seaborn as sns\n",
    "import numpy as np\n",
    "import matplotlib.pyplot as plt"
   ]
  },
  {
   "cell_type": "code",
   "execution_count": 49,
   "id": "18a2e465",
   "metadata": {},
   "outputs": [],
   "source": [
    "# train_main.csv - the training set\n",
    "# train_geo.csv - supplemental information about geographical data for the training set\n",
    "# train_weather.csv - supplemental information about weather data for the training set\n",
    "# holidays.csv - supplemental information about the holidays in the city\n",
    "\n",
    "\n",
    "train_main = pd.read_csv('train_main.csv')\n",
    "train_geo = pd.read_csv('train_geo.csv')\n",
    "train_weather = pd.read_csv('train_weather.csv')\n",
    "holidays = pd.read_csv('holidays.csv')"
   ]
  },
  {
   "cell_type": "code",
   "execution_count": 3,
   "id": "ec5cb101",
   "metadata": {},
   "outputs": [
    {
     "data": {
      "text/plain": [
       "(8494, 5)"
      ]
     },
     "execution_count": 3,
     "metadata": {},
     "output_type": "execute_result"
    }
   ],
   "source": [
    "train_main.shape"
   ]
  },
  {
   "cell_type": "code",
   "execution_count": 83,
   "id": "f74bc9f1",
   "metadata": {},
   "outputs": [
    {
     "data": {
      "text/html": [
       "<div>\n",
       "<style scoped>\n",
       "    .dataframe tbody tr th:only-of-type {\n",
       "        vertical-align: middle;\n",
       "    }\n",
       "\n",
       "    .dataframe tbody tr th {\n",
       "        vertical-align: top;\n",
       "    }\n",
       "\n",
       "    .dataframe thead th {\n",
       "        text-align: right;\n",
       "    }\n",
       "</style>\n",
       "<table border=\"1\" class=\"dataframe\">\n",
       "  <thead>\n",
       "    <tr style=\"text-align: right;\">\n",
       "      <th></th>\n",
       "      <th>id</th>\n",
       "      <th>starting_time</th>\n",
       "      <th>model_van</th>\n",
       "      <th>num_packages</th>\n",
       "      <th>delivery_time</th>\n",
       "    </tr>\n",
       "  </thead>\n",
       "  <tbody>\n",
       "    <tr>\n",
       "      <th>0</th>\n",
       "      <td>1</td>\n",
       "      <td>2016/04/14 20:53:00</td>\n",
       "      <td>model_A</td>\n",
       "      <td>3</td>\n",
       "      <td>448</td>\n",
       "    </tr>\n",
       "    <tr>\n",
       "      <th>1</th>\n",
       "      <td>2</td>\n",
       "      <td>2016/05/30 23:12:00</td>\n",
       "      <td>model_B</td>\n",
       "      <td>1</td>\n",
       "      <td>784</td>\n",
       "    </tr>\n",
       "    <tr>\n",
       "      <th>2</th>\n",
       "      <td>3</td>\n",
       "      <td>2016/03/03 11:54:00</td>\n",
       "      <td>model_B</td>\n",
       "      <td>1</td>\n",
       "      <td>844</td>\n",
       "    </tr>\n",
       "    <tr>\n",
       "      <th>3</th>\n",
       "      <td>4</td>\n",
       "      <td>2016/05/02 12:34:00</td>\n",
       "      <td>model_A</td>\n",
       "      <td>1</td>\n",
       "      <td>2076</td>\n",
       "    </tr>\n",
       "    <tr>\n",
       "      <th>4</th>\n",
       "      <td>5</td>\n",
       "      <td>2016/03/02 15:53:00</td>\n",
       "      <td>model_A</td>\n",
       "      <td>1</td>\n",
       "      <td>1289</td>\n",
       "    </tr>\n",
       "  </tbody>\n",
       "</table>\n",
       "</div>"
      ],
      "text/plain": [
       "   id        starting_time model_van  num_packages  delivery_time\n",
       "0   1  2016/04/14 20:53:00   model_A             3            448\n",
       "1   2  2016/05/30 23:12:00   model_B             1            784\n",
       "2   3  2016/03/03 11:54:00   model_B             1            844\n",
       "3   4  2016/05/02 12:34:00   model_A             1           2076\n",
       "4   5  2016/03/02 15:53:00   model_A             1           1289"
      ]
     },
     "execution_count": 83,
     "metadata": {},
     "output_type": "execute_result"
    }
   ],
   "source": [
    "train_main.head()"
   ]
  },
  {
   "cell_type": "code",
   "execution_count": 4,
   "id": "84091bfb",
   "metadata": {},
   "outputs": [
    {
     "data": {
      "text/html": [
       "<div>\n",
       "<style scoped>\n",
       "    .dataframe tbody tr th:only-of-type {\n",
       "        vertical-align: middle;\n",
       "    }\n",
       "\n",
       "    .dataframe tbody tr th {\n",
       "        vertical-align: top;\n",
       "    }\n",
       "\n",
       "    .dataframe thead th {\n",
       "        text-align: right;\n",
       "    }\n",
       "</style>\n",
       "<table border=\"1\" class=\"dataframe\">\n",
       "  <thead>\n",
       "    <tr style=\"text-align: right;\">\n",
       "      <th></th>\n",
       "      <th>id</th>\n",
       "      <th>town</th>\n",
       "      <th>start_Longitude</th>\n",
       "      <th>start_Latitude</th>\n",
       "      <th>end_Longitude</th>\n",
       "      <th>end_Latitude</th>\n",
       "    </tr>\n",
       "  </thead>\n",
       "  <tbody>\n",
       "    <tr>\n",
       "      <th>0</th>\n",
       "      <td>3954</td>\n",
       "      <td>Hawkins</td>\n",
       "      <td>-73.986992</td>\n",
       "      <td>40.755150</td>\n",
       "      <td>-73.946709</td>\n",
       "      <td>40.788689</td>\n",
       "    </tr>\n",
       "    <tr>\n",
       "      <th>1</th>\n",
       "      <td>4688</td>\n",
       "      <td>Hawkins</td>\n",
       "      <td>-73.976463</td>\n",
       "      <td>40.739571</td>\n",
       "      <td>-73.983727</td>\n",
       "      <td>40.711330</td>\n",
       "    </tr>\n",
       "    <tr>\n",
       "      <th>2</th>\n",
       "      <td>4747</td>\n",
       "      <td>Hawkins</td>\n",
       "      <td>-73.974167</td>\n",
       "      <td>40.763901</td>\n",
       "      <td>-73.987129</td>\n",
       "      <td>40.742100</td>\n",
       "    </tr>\n",
       "    <tr>\n",
       "      <th>3</th>\n",
       "      <td>5252</td>\n",
       "      <td>Hawkins</td>\n",
       "      <td>-73.999619</td>\n",
       "      <td>40.733711</td>\n",
       "      <td>-74.002357</td>\n",
       "      <td>40.760651</td>\n",
       "    </tr>\n",
       "    <tr>\n",
       "      <th>4</th>\n",
       "      <td>4102</td>\n",
       "      <td>Hawkins</td>\n",
       "      <td>-73.973450</td>\n",
       "      <td>40.795288</td>\n",
       "      <td>-73.941429</td>\n",
       "      <td>40.839375</td>\n",
       "    </tr>\n",
       "    <tr>\n",
       "      <th>...</th>\n",
       "      <td>...</td>\n",
       "      <td>...</td>\n",
       "      <td>...</td>\n",
       "      <td>...</td>\n",
       "      <td>...</td>\n",
       "      <td>...</td>\n",
       "    </tr>\n",
       "    <tr>\n",
       "      <th>9044</th>\n",
       "      <td>4571</td>\n",
       "      <td>Hawkins</td>\n",
       "      <td>-73.978340</td>\n",
       "      <td>40.752934</td>\n",
       "      <td>-73.999962</td>\n",
       "      <td>40.737942</td>\n",
       "    </tr>\n",
       "    <tr>\n",
       "      <th>9045</th>\n",
       "      <td>6919</td>\n",
       "      <td>Hawkins</td>\n",
       "      <td>-73.961594</td>\n",
       "      <td>40.773823</td>\n",
       "      <td>-73.984268</td>\n",
       "      <td>40.770107</td>\n",
       "    </tr>\n",
       "    <tr>\n",
       "      <th>9046</th>\n",
       "      <td>5992</td>\n",
       "      <td>Hawkins</td>\n",
       "      <td>-73.994507</td>\n",
       "      <td>40.770317</td>\n",
       "      <td>-73.781120</td>\n",
       "      <td>40.779087</td>\n",
       "    </tr>\n",
       "    <tr>\n",
       "      <th>9047</th>\n",
       "      <td>5992</td>\n",
       "      <td>Hawkins</td>\n",
       "      <td>-73.994507</td>\n",
       "      <td>40.770317</td>\n",
       "      <td>-73.781120</td>\n",
       "      <td>40.779087</td>\n",
       "    </tr>\n",
       "    <tr>\n",
       "      <th>9048</th>\n",
       "      <td>5998</td>\n",
       "      <td>Hawkins</td>\n",
       "      <td>-74.003960</td>\n",
       "      <td>40.742008</td>\n",
       "      <td>-73.996292</td>\n",
       "      <td>40.753567</td>\n",
       "    </tr>\n",
       "  </tbody>\n",
       "</table>\n",
       "<p>9049 rows × 6 columns</p>\n",
       "</div>"
      ],
      "text/plain": [
       "        id     town  start_Longitude  start_Latitude  end_Longitude  \\\n",
       "0     3954  Hawkins       -73.986992       40.755150     -73.946709   \n",
       "1     4688  Hawkins       -73.976463       40.739571     -73.983727   \n",
       "2     4747  Hawkins       -73.974167       40.763901     -73.987129   \n",
       "3     5252  Hawkins       -73.999619       40.733711     -74.002357   \n",
       "4     4102  Hawkins       -73.973450       40.795288     -73.941429   \n",
       "...    ...      ...              ...             ...            ...   \n",
       "9044  4571  Hawkins       -73.978340       40.752934     -73.999962   \n",
       "9045  6919  Hawkins       -73.961594       40.773823     -73.984268   \n",
       "9046  5992  Hawkins       -73.994507       40.770317     -73.781120   \n",
       "9047  5992  Hawkins       -73.994507       40.770317     -73.781120   \n",
       "9048  5998  Hawkins       -74.003960       40.742008     -73.996292   \n",
       "\n",
       "      end_Latitude  \n",
       "0        40.788689  \n",
       "1        40.711330  \n",
       "2        40.742100  \n",
       "3        40.760651  \n",
       "4        40.839375  \n",
       "...            ...  \n",
       "9044     40.737942  \n",
       "9045     40.770107  \n",
       "9046     40.779087  \n",
       "9047     40.779087  \n",
       "9048     40.753567  \n",
       "\n",
       "[9049 rows x 6 columns]"
      ]
     },
     "execution_count": 4,
     "metadata": {},
     "output_type": "execute_result"
    }
   ],
   "source": [
    "train_geo"
   ]
  },
  {
   "cell_type": "code",
   "execution_count": 5,
   "id": "f5b88a5c",
   "metadata": {},
   "outputs": [
    {
     "data": {
      "text/html": [
       "<div>\n",
       "<style scoped>\n",
       "    .dataframe tbody tr th:only-of-type {\n",
       "        vertical-align: middle;\n",
       "    }\n",
       "\n",
       "    .dataframe tbody tr th {\n",
       "        vertical-align: top;\n",
       "    }\n",
       "\n",
       "    .dataframe thead th {\n",
       "        text-align: right;\n",
       "    }\n",
       "</style>\n",
       "<table border=\"1\" class=\"dataframe\">\n",
       "  <thead>\n",
       "    <tr style=\"text-align: right;\">\n",
       "      <th></th>\n",
       "      <th>id</th>\n",
       "      <th>wea_conditions</th>\n",
       "      <th>wea_temp</th>\n",
       "      <th>wea_dptemp</th>\n",
       "      <th>wea_humidity</th>\n",
       "      <th>wea_windspeed</th>\n",
       "      <th>wea_winddir</th>\n",
       "      <th>wea_visibility</th>\n",
       "      <th>wea_pressure</th>\n",
       "      <th>wea_precipitation</th>\n",
       "      <th>wea_fog</th>\n",
       "      <th>wea_rain</th>\n",
       "      <th>wea_snow</th>\n",
       "    </tr>\n",
       "  </thead>\n",
       "  <tbody>\n",
       "    <tr>\n",
       "      <th>0</th>\n",
       "      <td>7322</td>\n",
       "      <td>Mostly_Cloudy</td>\n",
       "      <td>22.8</td>\n",
       "      <td>11.7</td>\n",
       "      <td>49.0</td>\n",
       "      <td>7.4</td>\n",
       "      <td>0</td>\n",
       "      <td>16.1</td>\n",
       "      <td>29.9</td>\n",
       "      <td>NaN</td>\n",
       "      <td>No</td>\n",
       "      <td>No</td>\n",
       "      <td>No</td>\n",
       "    </tr>\n",
       "    <tr>\n",
       "      <th>1</th>\n",
       "      <td>5677</td>\n",
       "      <td>Clear</td>\n",
       "      <td>12.8</td>\n",
       "      <td>-2.8</td>\n",
       "      <td>34.0</td>\n",
       "      <td>0.0</td>\n",
       "      <td>0</td>\n",
       "      <td>16.1</td>\n",
       "      <td>29.9</td>\n",
       "      <td>NaN</td>\n",
       "      <td>No</td>\n",
       "      <td>No</td>\n",
       "      <td>No</td>\n",
       "    </tr>\n",
       "    <tr>\n",
       "      <th>2</th>\n",
       "      <td>5269</td>\n",
       "      <td>Clear</td>\n",
       "      <td>16.7</td>\n",
       "      <td>-6.7</td>\n",
       "      <td>20.0</td>\n",
       "      <td>5.6</td>\n",
       "      <td>0</td>\n",
       "      <td>16.1</td>\n",
       "      <td>30.3</td>\n",
       "      <td>NaN</td>\n",
       "      <td>No</td>\n",
       "      <td>No</td>\n",
       "      <td>No</td>\n",
       "    </tr>\n",
       "    <tr>\n",
       "      <th>3</th>\n",
       "      <td>7334</td>\n",
       "      <td>Overcast</td>\n",
       "      <td>9.4</td>\n",
       "      <td>7.2</td>\n",
       "      <td>86.0</td>\n",
       "      <td>13.0</td>\n",
       "      <td>70</td>\n",
       "      <td>16.1</td>\n",
       "      <td>29.8</td>\n",
       "      <td>0.8</td>\n",
       "      <td>No</td>\n",
       "      <td>No</td>\n",
       "      <td>No</td>\n",
       "    </tr>\n",
       "    <tr>\n",
       "      <th>4</th>\n",
       "      <td>3356</td>\n",
       "      <td>Light_Rain</td>\n",
       "      <td>11.7</td>\n",
       "      <td>10.6</td>\n",
       "      <td>93.0</td>\n",
       "      <td>5.6</td>\n",
       "      <td>0</td>\n",
       "      <td>4.0</td>\n",
       "      <td>29.9</td>\n",
       "      <td>1.8</td>\n",
       "      <td>No</td>\n",
       "      <td>Y</td>\n",
       "      <td>No</td>\n",
       "    </tr>\n",
       "    <tr>\n",
       "      <th>...</th>\n",
       "      <td>...</td>\n",
       "      <td>...</td>\n",
       "      <td>...</td>\n",
       "      <td>...</td>\n",
       "      <td>...</td>\n",
       "      <td>...</td>\n",
       "      <td>...</td>\n",
       "      <td>...</td>\n",
       "      <td>...</td>\n",
       "      <td>...</td>\n",
       "      <td>...</td>\n",
       "      <td>...</td>\n",
       "      <td>...</td>\n",
       "    </tr>\n",
       "    <tr>\n",
       "      <th>8489</th>\n",
       "      <td>4403</td>\n",
       "      <td>Haze</td>\n",
       "      <td>11.7</td>\n",
       "      <td>8.9</td>\n",
       "      <td>83.0</td>\n",
       "      <td>NaN</td>\n",
       "      <td>0</td>\n",
       "      <td>9.7</td>\n",
       "      <td>29.7</td>\n",
       "      <td>0.3</td>\n",
       "      <td>No</td>\n",
       "      <td>No</td>\n",
       "      <td>No</td>\n",
       "    </tr>\n",
       "    <tr>\n",
       "      <th>8490</th>\n",
       "      <td>1073</td>\n",
       "      <td>Clear</td>\n",
       "      <td>10.0</td>\n",
       "      <td>2.8</td>\n",
       "      <td>61.0</td>\n",
       "      <td>25.9</td>\n",
       "      <td>60</td>\n",
       "      <td>16.1</td>\n",
       "      <td>30.1</td>\n",
       "      <td>NaN</td>\n",
       "      <td>No</td>\n",
       "      <td>No</td>\n",
       "      <td>No</td>\n",
       "    </tr>\n",
       "    <tr>\n",
       "      <th>8491</th>\n",
       "      <td>2026</td>\n",
       "      <td>Clear</td>\n",
       "      <td>-6.1</td>\n",
       "      <td>-11.1</td>\n",
       "      <td>68.0</td>\n",
       "      <td>7.4</td>\n",
       "      <td>0</td>\n",
       "      <td>16.1</td>\n",
       "      <td>29.9</td>\n",
       "      <td>NaN</td>\n",
       "      <td>No</td>\n",
       "      <td>No</td>\n",
       "      <td>No</td>\n",
       "    </tr>\n",
       "    <tr>\n",
       "      <th>8492</th>\n",
       "      <td>7646</td>\n",
       "      <td>Overcast</td>\n",
       "      <td>11.7</td>\n",
       "      <td>-3.9</td>\n",
       "      <td>34.0</td>\n",
       "      <td>16.7</td>\n",
       "      <td>300</td>\n",
       "      <td>16.1</td>\n",
       "      <td>29.8</td>\n",
       "      <td>NaN</td>\n",
       "      <td>No</td>\n",
       "      <td>No</td>\n",
       "      <td>No</td>\n",
       "    </tr>\n",
       "    <tr>\n",
       "      <th>8493</th>\n",
       "      <td>7861</td>\n",
       "      <td>Overcast</td>\n",
       "      <td>25.6</td>\n",
       "      <td>21.1</td>\n",
       "      <td>76.0</td>\n",
       "      <td>7.4</td>\n",
       "      <td>360</td>\n",
       "      <td>16.1</td>\n",
       "      <td>29.8</td>\n",
       "      <td>NaN</td>\n",
       "      <td>No</td>\n",
       "      <td>No</td>\n",
       "      <td>No</td>\n",
       "    </tr>\n",
       "  </tbody>\n",
       "</table>\n",
       "<p>8494 rows × 13 columns</p>\n",
       "</div>"
      ],
      "text/plain": [
       "        id wea_conditions  wea_temp  wea_dptemp  wea_humidity  wea_windspeed  \\\n",
       "0     7322  Mostly_Cloudy      22.8        11.7          49.0            7.4   \n",
       "1     5677          Clear      12.8        -2.8          34.0            0.0   \n",
       "2     5269          Clear      16.7        -6.7          20.0            5.6   \n",
       "3     7334       Overcast       9.4         7.2          86.0           13.0   \n",
       "4     3356     Light_Rain      11.7        10.6          93.0            5.6   \n",
       "...    ...            ...       ...         ...           ...            ...   \n",
       "8489  4403           Haze      11.7         8.9          83.0            NaN   \n",
       "8490  1073          Clear      10.0         2.8          61.0           25.9   \n",
       "8491  2026          Clear      -6.1       -11.1          68.0            7.4   \n",
       "8492  7646       Overcast      11.7        -3.9          34.0           16.7   \n",
       "8493  7861       Overcast      25.6        21.1          76.0            7.4   \n",
       "\n",
       "      wea_winddir  wea_visibility  wea_pressure  wea_precipitation wea_fog  \\\n",
       "0               0            16.1          29.9                NaN      No   \n",
       "1               0            16.1          29.9                NaN      No   \n",
       "2               0            16.1          30.3                NaN      No   \n",
       "3              70            16.1          29.8                0.8      No   \n",
       "4               0             4.0          29.9                1.8      No   \n",
       "...           ...             ...           ...                ...     ...   \n",
       "8489            0             9.7          29.7                0.3      No   \n",
       "8490           60            16.1          30.1                NaN      No   \n",
       "8491            0            16.1          29.9                NaN      No   \n",
       "8492          300            16.1          29.8                NaN      No   \n",
       "8493          360            16.1          29.8                NaN      No   \n",
       "\n",
       "     wea_rain wea_snow  \n",
       "0          No       No  \n",
       "1          No       No  \n",
       "2          No       No  \n",
       "3          No       No  \n",
       "4           Y       No  \n",
       "...       ...      ...  \n",
       "8489       No       No  \n",
       "8490       No       No  \n",
       "8491       No       No  \n",
       "8492       No       No  \n",
       "8493       No       No  \n",
       "\n",
       "[8494 rows x 13 columns]"
      ]
     },
     "execution_count": 5,
     "metadata": {},
     "output_type": "execute_result"
    }
   ],
   "source": [
    "train_weather"
   ]
  },
  {
   "cell_type": "code",
   "execution_count": 6,
   "id": "7a255c89",
   "metadata": {},
   "outputs": [
    {
     "data": {
      "text/html": [
       "<div>\n",
       "<style scoped>\n",
       "    .dataframe tbody tr th:only-of-type {\n",
       "        vertical-align: middle;\n",
       "    }\n",
       "\n",
       "    .dataframe tbody tr th {\n",
       "        vertical-align: top;\n",
       "    }\n",
       "\n",
       "    .dataframe thead th {\n",
       "        text-align: right;\n",
       "    }\n",
       "</style>\n",
       "<table border=\"1\" class=\"dataframe\">\n",
       "  <thead>\n",
       "    <tr style=\"text-align: right;\">\n",
       "      <th></th>\n",
       "      <th>date</th>\n",
       "      <th>holiday</th>\n",
       "    </tr>\n",
       "  </thead>\n",
       "  <tbody>\n",
       "    <tr>\n",
       "      <th>0</th>\n",
       "      <td>2016-01-01</td>\n",
       "      <td>Y</td>\n",
       "    </tr>\n",
       "    <tr>\n",
       "      <th>1</th>\n",
       "      <td>2016-01-18</td>\n",
       "      <td>Y</td>\n",
       "    </tr>\n",
       "    <tr>\n",
       "      <th>2</th>\n",
       "      <td>2016-02-12</td>\n",
       "      <td>Y</td>\n",
       "    </tr>\n",
       "    <tr>\n",
       "      <th>3</th>\n",
       "      <td>2016-02-15</td>\n",
       "      <td>Y</td>\n",
       "    </tr>\n",
       "    <tr>\n",
       "      <th>4</th>\n",
       "      <td>2016-05-08</td>\n",
       "      <td>Y</td>\n",
       "    </tr>\n",
       "    <tr>\n",
       "      <th>5</th>\n",
       "      <td>2016-05-30</td>\n",
       "      <td>Y</td>\n",
       "    </tr>\n",
       "    <tr>\n",
       "      <th>6</th>\n",
       "      <td>2016-06-19</td>\n",
       "      <td>Y</td>\n",
       "    </tr>\n",
       "    <tr>\n",
       "      <th>7</th>\n",
       "      <td>2016-07-04</td>\n",
       "      <td>Y</td>\n",
       "    </tr>\n",
       "    <tr>\n",
       "      <th>8</th>\n",
       "      <td>2016-09-05</td>\n",
       "      <td>Y</td>\n",
       "    </tr>\n",
       "    <tr>\n",
       "      <th>9</th>\n",
       "      <td>2016-10-10</td>\n",
       "      <td>Y</td>\n",
       "    </tr>\n",
       "    <tr>\n",
       "      <th>10</th>\n",
       "      <td>2016-11-11</td>\n",
       "      <td>Y</td>\n",
       "    </tr>\n",
       "    <tr>\n",
       "      <th>11</th>\n",
       "      <td>2016-11-24</td>\n",
       "      <td>Y</td>\n",
       "    </tr>\n",
       "    <tr>\n",
       "      <th>12</th>\n",
       "      <td>2016-12-26</td>\n",
       "      <td>Y</td>\n",
       "    </tr>\n",
       "  </tbody>\n",
       "</table>\n",
       "</div>"
      ],
      "text/plain": [
       "          date holiday\n",
       "0   2016-01-01       Y\n",
       "1   2016-01-18       Y\n",
       "2   2016-02-12       Y\n",
       "3   2016-02-15       Y\n",
       "4   2016-05-08       Y\n",
       "5   2016-05-30       Y\n",
       "6   2016-06-19       Y\n",
       "7   2016-07-04       Y\n",
       "8   2016-09-05       Y\n",
       "9   2016-10-10       Y\n",
       "10  2016-11-11       Y\n",
       "11  2016-11-24       Y\n",
       "12  2016-12-26       Y"
      ]
     },
     "execution_count": 6,
     "metadata": {},
     "output_type": "execute_result"
    }
   ],
   "source": [
    "holidays"
   ]
  },
  {
   "cell_type": "code",
   "execution_count": 7,
   "id": "1f287588",
   "metadata": {},
   "outputs": [
    {
     "data": {
      "text/plain": [
       "8494"
      ]
     },
     "execution_count": 7,
     "metadata": {},
     "output_type": "execute_result"
    }
   ],
   "source": [
    "train_main.id.nunique()"
   ]
  },
  {
   "cell_type": "code",
   "execution_count": 8,
   "id": "45714324",
   "metadata": {},
   "outputs": [
    {
     "data": {
      "text/plain": [
       "8494"
      ]
     },
     "execution_count": 8,
     "metadata": {},
     "output_type": "execute_result"
    }
   ],
   "source": [
    "train_geo.id.nunique()"
   ]
  },
  {
   "cell_type": "code",
   "execution_count": 9,
   "id": "b2b8698a",
   "metadata": {},
   "outputs": [
    {
     "data": {
      "text/plain": [
       "8494"
      ]
     },
     "execution_count": 9,
     "metadata": {},
     "output_type": "execute_result"
    }
   ],
   "source": [
    "train_weather.id.nunique()"
   ]
  },
  {
   "cell_type": "code",
   "execution_count": 12,
   "id": "2988d0e5",
   "metadata": {},
   "outputs": [],
   "source": [
    "train_geo = train_geo.drop_duplicates('id')\n",
    "train_weather = train_weather.drop_duplicates('id')"
   ]
  },
  {
   "cell_type": "code",
   "execution_count": 13,
   "id": "3519a35d",
   "metadata": {},
   "outputs": [],
   "source": [
    "# train_geo with train_weather\n",
    "df_merged = pd.merge(train_geo,\n",
    "                      train_weather,\n",
    "                      left_on = [\"id\"],\n",
    "                      right_on = [\"id\"],\n",
    "                      how=\"inner\")"
   ]
  },
  {
   "cell_type": "code",
   "execution_count": 14,
   "id": "cfdd8811",
   "metadata": {},
   "outputs": [
    {
     "data": {
      "text/plain": [
       "(8494, 18)"
      ]
     },
     "execution_count": 14,
     "metadata": {},
     "output_type": "execute_result"
    }
   ],
   "source": [
    "df_merged.shape"
   ]
  },
  {
   "cell_type": "code",
   "execution_count": 38,
   "id": "e7024799",
   "metadata": {},
   "outputs": [],
   "source": [
    "# df_merged with train_main\n",
    "df = pd.merge(train_main,\n",
    "              df_merged,\n",
    "              left_on = [\"id\"],\n",
    "              right_on = [\"id\"],\n",
    "              how=\"inner\")"
   ]
  },
  {
   "cell_type": "code",
   "execution_count": 39,
   "id": "1dd04f48",
   "metadata": {},
   "outputs": [
    {
     "data": {
      "text/plain": [
       "(8494, 22)"
      ]
     },
     "execution_count": 39,
     "metadata": {},
     "output_type": "execute_result"
    }
   ],
   "source": [
    "df.shape"
   ]
  },
  {
   "cell_type": "code",
   "execution_count": 40,
   "id": "ae752d2a",
   "metadata": {},
   "outputs": [
    {
     "data": {
      "text/html": [
       "<div>\n",
       "<style scoped>\n",
       "    .dataframe tbody tr th:only-of-type {\n",
       "        vertical-align: middle;\n",
       "    }\n",
       "\n",
       "    .dataframe tbody tr th {\n",
       "        vertical-align: top;\n",
       "    }\n",
       "\n",
       "    .dataframe thead th {\n",
       "        text-align: right;\n",
       "    }\n",
       "</style>\n",
       "<table border=\"1\" class=\"dataframe\">\n",
       "  <thead>\n",
       "    <tr style=\"text-align: right;\">\n",
       "      <th></th>\n",
       "      <th>id</th>\n",
       "      <th>starting_time</th>\n",
       "      <th>model_van</th>\n",
       "      <th>num_packages</th>\n",
       "      <th>delivery_time</th>\n",
       "      <th>town</th>\n",
       "      <th>start_Longitude</th>\n",
       "      <th>start_Latitude</th>\n",
       "      <th>end_Longitude</th>\n",
       "      <th>end_Latitude</th>\n",
       "      <th>...</th>\n",
       "      <th>wea_dptemp</th>\n",
       "      <th>wea_humidity</th>\n",
       "      <th>wea_windspeed</th>\n",
       "      <th>wea_winddir</th>\n",
       "      <th>wea_visibility</th>\n",
       "      <th>wea_pressure</th>\n",
       "      <th>wea_precipitation</th>\n",
       "      <th>wea_fog</th>\n",
       "      <th>wea_rain</th>\n",
       "      <th>wea_snow</th>\n",
       "    </tr>\n",
       "  </thead>\n",
       "  <tbody>\n",
       "    <tr>\n",
       "      <th>0</th>\n",
       "      <td>1</td>\n",
       "      <td>2016/04/14 20:53:00</td>\n",
       "      <td>model_A</td>\n",
       "      <td>3</td>\n",
       "      <td>448</td>\n",
       "      <td>Hawkins</td>\n",
       "      <td>-73.950912</td>\n",
       "      <td>40.825974</td>\n",
       "      <td>-73.944740</td>\n",
       "      <td>40.814163</td>\n",
       "      <td>...</td>\n",
       "      <td>0.0</td>\n",
       "      <td>54.0</td>\n",
       "      <td>16.7</td>\n",
       "      <td>170</td>\n",
       "      <td>16.1</td>\n",
       "      <td>30.4</td>\n",
       "      <td>NaN</td>\n",
       "      <td>No</td>\n",
       "      <td>No</td>\n",
       "      <td>No</td>\n",
       "    </tr>\n",
       "    <tr>\n",
       "      <th>1</th>\n",
       "      <td>2</td>\n",
       "      <td>2016/05/30 23:12:00</td>\n",
       "      <td>model_B</td>\n",
       "      <td>1</td>\n",
       "      <td>784</td>\n",
       "      <td>Hawkins</td>\n",
       "      <td>-73.985680</td>\n",
       "      <td>40.760487</td>\n",
       "      <td>-73.942482</td>\n",
       "      <td>40.786232</td>\n",
       "      <td>...</td>\n",
       "      <td>18.9</td>\n",
       "      <td>79.0</td>\n",
       "      <td>9.3</td>\n",
       "      <td>0</td>\n",
       "      <td>16.1</td>\n",
       "      <td>30.0</td>\n",
       "      <td>NaN</td>\n",
       "      <td>No</td>\n",
       "      <td>No</td>\n",
       "      <td>No</td>\n",
       "    </tr>\n",
       "    <tr>\n",
       "      <th>2</th>\n",
       "      <td>3</td>\n",
       "      <td>2016/03/03 11:54:00</td>\n",
       "      <td>model_B</td>\n",
       "      <td>1</td>\n",
       "      <td>844</td>\n",
       "      <td>Hawkins</td>\n",
       "      <td>-73.985420</td>\n",
       "      <td>40.758389</td>\n",
       "      <td>-74.007294</td>\n",
       "      <td>40.726639</td>\n",
       "      <td>...</td>\n",
       "      <td>-15.6</td>\n",
       "      <td>31.0</td>\n",
       "      <td>9.3</td>\n",
       "      <td>250</td>\n",
       "      <td>16.1</td>\n",
       "      <td>30.2</td>\n",
       "      <td>NaN</td>\n",
       "      <td>No</td>\n",
       "      <td>No</td>\n",
       "      <td>No</td>\n",
       "    </tr>\n",
       "    <tr>\n",
       "      <th>3</th>\n",
       "      <td>4</td>\n",
       "      <td>2016/05/02 12:34:00</td>\n",
       "      <td>model_A</td>\n",
       "      <td>1</td>\n",
       "      <td>2076</td>\n",
       "      <td>Hawkins</td>\n",
       "      <td>-73.870964</td>\n",
       "      <td>40.773792</td>\n",
       "      <td>-73.989090</td>\n",
       "      <td>40.746052</td>\n",
       "      <td>...</td>\n",
       "      <td>-1.7</td>\n",
       "      <td>85.0</td>\n",
       "      <td>13.0</td>\n",
       "      <td>300</td>\n",
       "      <td>4.0</td>\n",
       "      <td>30.1</td>\n",
       "      <td>NaN</td>\n",
       "      <td>No</td>\n",
       "      <td>No</td>\n",
       "      <td>No</td>\n",
       "    </tr>\n",
       "    <tr>\n",
       "      <th>4</th>\n",
       "      <td>5</td>\n",
       "      <td>2016/03/02 15:53:00</td>\n",
       "      <td>model_A</td>\n",
       "      <td>1</td>\n",
       "      <td>1289</td>\n",
       "      <td>Hawkins</td>\n",
       "      <td>-73.979012</td>\n",
       "      <td>40.745266</td>\n",
       "      <td>-73.979240</td>\n",
       "      <td>40.772480</td>\n",
       "      <td>...</td>\n",
       "      <td>12.2</td>\n",
       "      <td>89.0</td>\n",
       "      <td>11.1</td>\n",
       "      <td>170</td>\n",
       "      <td>1.6</td>\n",
       "      <td>30.0</td>\n",
       "      <td>5.1</td>\n",
       "      <td>No</td>\n",
       "      <td>Y</td>\n",
       "      <td>No</td>\n",
       "    </tr>\n",
       "  </tbody>\n",
       "</table>\n",
       "<p>5 rows × 22 columns</p>\n",
       "</div>"
      ],
      "text/plain": [
       "   id        starting_time model_van  num_packages  delivery_time     town  \\\n",
       "0   1  2016/04/14 20:53:00   model_A             3            448  Hawkins   \n",
       "1   2  2016/05/30 23:12:00   model_B             1            784  Hawkins   \n",
       "2   3  2016/03/03 11:54:00   model_B             1            844  Hawkins   \n",
       "3   4  2016/05/02 12:34:00   model_A             1           2076  Hawkins   \n",
       "4   5  2016/03/02 15:53:00   model_A             1           1289  Hawkins   \n",
       "\n",
       "   start_Longitude  start_Latitude  end_Longitude  end_Latitude  ...  \\\n",
       "0       -73.950912       40.825974     -73.944740     40.814163  ...   \n",
       "1       -73.985680       40.760487     -73.942482     40.786232  ...   \n",
       "2       -73.985420       40.758389     -74.007294     40.726639  ...   \n",
       "3       -73.870964       40.773792     -73.989090     40.746052  ...   \n",
       "4       -73.979012       40.745266     -73.979240     40.772480  ...   \n",
       "\n",
       "  wea_dptemp  wea_humidity  wea_windspeed  wea_winddir  wea_visibility  \\\n",
       "0        0.0          54.0           16.7          170            16.1   \n",
       "1       18.9          79.0            9.3            0            16.1   \n",
       "2      -15.6          31.0            9.3          250            16.1   \n",
       "3       -1.7          85.0           13.0          300             4.0   \n",
       "4       12.2          89.0           11.1          170             1.6   \n",
       "\n",
       "   wea_pressure  wea_precipitation  wea_fog  wea_rain wea_snow  \n",
       "0          30.4                NaN       No        No       No  \n",
       "1          30.0                NaN       No        No       No  \n",
       "2          30.2                NaN       No        No       No  \n",
       "3          30.1                NaN       No        No       No  \n",
       "4          30.0                5.1       No         Y       No  \n",
       "\n",
       "[5 rows x 22 columns]"
      ]
     },
     "execution_count": 40,
     "metadata": {},
     "output_type": "execute_result"
    }
   ],
   "source": [
    "df.head()"
   ]
  },
  {
   "cell_type": "code",
   "execution_count": 41,
   "id": "2ad8f127",
   "metadata": {},
   "outputs": [
    {
     "name": "stdout",
     "output_type": "stream",
     "text": [
      "<class 'pandas.core.frame.DataFrame'>\n",
      "Int64Index: 8494 entries, 0 to 8493\n",
      "Data columns (total 22 columns):\n",
      " #   Column             Non-Null Count  Dtype  \n",
      "---  ------             --------------  -----  \n",
      " 0   id                 8494 non-null   int64  \n",
      " 1   starting_time      8494 non-null   object \n",
      " 2   model_van          8494 non-null   object \n",
      " 3   num_packages       8494 non-null   int64  \n",
      " 4   delivery_time      8494 non-null   int64  \n",
      " 5   town               8494 non-null   object \n",
      " 6   start_Longitude    8494 non-null   float64\n",
      " 7   start_Latitude     8494 non-null   float64\n",
      " 8   end_Longitude      8494 non-null   float64\n",
      " 9   end_Latitude       8494 non-null   float64\n",
      " 10  wea_conditions     8494 non-null   object \n",
      " 11  wea_temp           8492 non-null   float64\n",
      " 12  wea_dptemp         8492 non-null   float64\n",
      " 13  wea_humidity       8492 non-null   float64\n",
      " 14  wea_windspeed      7837 non-null   float64\n",
      " 15  wea_winddir        8494 non-null   int64  \n",
      " 16  wea_visibility     8265 non-null   float64\n",
      " 17  wea_pressure       8268 non-null   float64\n",
      " 18  wea_precipitation  1281 non-null   float64\n",
      " 19  wea_fog            8494 non-null   object \n",
      " 20  wea_rain           8494 non-null   object \n",
      " 21  wea_snow           8494 non-null   object \n",
      "dtypes: float64(11), int64(4), object(7)\n",
      "memory usage: 1.5+ MB\n"
     ]
    }
   ],
   "source": [
    "df.info()"
   ]
  },
  {
   "cell_type": "code",
   "execution_count": 42,
   "id": "f172fc79",
   "metadata": {},
   "outputs": [
    {
     "data": {
      "text/plain": [
       "id                      0\n",
       "starting_time           0\n",
       "model_van               0\n",
       "num_packages            0\n",
       "delivery_time           0\n",
       "town                    0\n",
       "start_Longitude         0\n",
       "start_Latitude          0\n",
       "end_Longitude           0\n",
       "end_Latitude            0\n",
       "wea_conditions          0\n",
       "wea_temp                2\n",
       "wea_dptemp              2\n",
       "wea_humidity            2\n",
       "wea_windspeed         657\n",
       "wea_winddir             0\n",
       "wea_visibility        229\n",
       "wea_pressure          226\n",
       "wea_precipitation    7213\n",
       "wea_fog                 0\n",
       "wea_rain                0\n",
       "wea_snow                0\n",
       "dtype: int64"
      ]
     },
     "execution_count": 42,
     "metadata": {},
     "output_type": "execute_result"
    }
   ],
   "source": [
    "df.isnull().sum()"
   ]
  },
  {
   "cell_type": "code",
   "execution_count": 44,
   "id": "ab0206d3",
   "metadata": {},
   "outputs": [],
   "source": [
    "df['date'] = pd.to_datetime(df.starting_time).dt.date"
   ]
  },
  {
   "cell_type": "code",
   "execution_count": 45,
   "id": "0bc4ca2a",
   "metadata": {},
   "outputs": [
    {
     "data": {
      "text/html": [
       "<div>\n",
       "<style scoped>\n",
       "    .dataframe tbody tr th:only-of-type {\n",
       "        vertical-align: middle;\n",
       "    }\n",
       "\n",
       "    .dataframe tbody tr th {\n",
       "        vertical-align: top;\n",
       "    }\n",
       "\n",
       "    .dataframe thead th {\n",
       "        text-align: right;\n",
       "    }\n",
       "</style>\n",
       "<table border=\"1\" class=\"dataframe\">\n",
       "  <thead>\n",
       "    <tr style=\"text-align: right;\">\n",
       "      <th></th>\n",
       "      <th>id</th>\n",
       "      <th>starting_time</th>\n",
       "      <th>model_van</th>\n",
       "      <th>num_packages</th>\n",
       "      <th>delivery_time</th>\n",
       "      <th>town</th>\n",
       "      <th>start_Longitude</th>\n",
       "      <th>start_Latitude</th>\n",
       "      <th>end_Longitude</th>\n",
       "      <th>end_Latitude</th>\n",
       "      <th>...</th>\n",
       "      <th>wea_humidity</th>\n",
       "      <th>wea_windspeed</th>\n",
       "      <th>wea_winddir</th>\n",
       "      <th>wea_visibility</th>\n",
       "      <th>wea_pressure</th>\n",
       "      <th>wea_precipitation</th>\n",
       "      <th>wea_fog</th>\n",
       "      <th>wea_rain</th>\n",
       "      <th>wea_snow</th>\n",
       "      <th>date</th>\n",
       "    </tr>\n",
       "  </thead>\n",
       "  <tbody>\n",
       "    <tr>\n",
       "      <th>0</th>\n",
       "      <td>1</td>\n",
       "      <td>2016/04/14 20:53:00</td>\n",
       "      <td>model_A</td>\n",
       "      <td>3</td>\n",
       "      <td>448</td>\n",
       "      <td>Hawkins</td>\n",
       "      <td>-73.950912</td>\n",
       "      <td>40.825974</td>\n",
       "      <td>-73.944740</td>\n",
       "      <td>40.814163</td>\n",
       "      <td>...</td>\n",
       "      <td>54.0</td>\n",
       "      <td>16.7</td>\n",
       "      <td>170</td>\n",
       "      <td>16.1</td>\n",
       "      <td>30.4</td>\n",
       "      <td>NaN</td>\n",
       "      <td>No</td>\n",
       "      <td>No</td>\n",
       "      <td>No</td>\n",
       "      <td>2016-04-14</td>\n",
       "    </tr>\n",
       "    <tr>\n",
       "      <th>1</th>\n",
       "      <td>2</td>\n",
       "      <td>2016/05/30 23:12:00</td>\n",
       "      <td>model_B</td>\n",
       "      <td>1</td>\n",
       "      <td>784</td>\n",
       "      <td>Hawkins</td>\n",
       "      <td>-73.985680</td>\n",
       "      <td>40.760487</td>\n",
       "      <td>-73.942482</td>\n",
       "      <td>40.786232</td>\n",
       "      <td>...</td>\n",
       "      <td>79.0</td>\n",
       "      <td>9.3</td>\n",
       "      <td>0</td>\n",
       "      <td>16.1</td>\n",
       "      <td>30.0</td>\n",
       "      <td>NaN</td>\n",
       "      <td>No</td>\n",
       "      <td>No</td>\n",
       "      <td>No</td>\n",
       "      <td>2016-05-30</td>\n",
       "    </tr>\n",
       "    <tr>\n",
       "      <th>2</th>\n",
       "      <td>3</td>\n",
       "      <td>2016/03/03 11:54:00</td>\n",
       "      <td>model_B</td>\n",
       "      <td>1</td>\n",
       "      <td>844</td>\n",
       "      <td>Hawkins</td>\n",
       "      <td>-73.985420</td>\n",
       "      <td>40.758389</td>\n",
       "      <td>-74.007294</td>\n",
       "      <td>40.726639</td>\n",
       "      <td>...</td>\n",
       "      <td>31.0</td>\n",
       "      <td>9.3</td>\n",
       "      <td>250</td>\n",
       "      <td>16.1</td>\n",
       "      <td>30.2</td>\n",
       "      <td>NaN</td>\n",
       "      <td>No</td>\n",
       "      <td>No</td>\n",
       "      <td>No</td>\n",
       "      <td>2016-03-03</td>\n",
       "    </tr>\n",
       "    <tr>\n",
       "      <th>3</th>\n",
       "      <td>4</td>\n",
       "      <td>2016/05/02 12:34:00</td>\n",
       "      <td>model_A</td>\n",
       "      <td>1</td>\n",
       "      <td>2076</td>\n",
       "      <td>Hawkins</td>\n",
       "      <td>-73.870964</td>\n",
       "      <td>40.773792</td>\n",
       "      <td>-73.989090</td>\n",
       "      <td>40.746052</td>\n",
       "      <td>...</td>\n",
       "      <td>85.0</td>\n",
       "      <td>13.0</td>\n",
       "      <td>300</td>\n",
       "      <td>4.0</td>\n",
       "      <td>30.1</td>\n",
       "      <td>NaN</td>\n",
       "      <td>No</td>\n",
       "      <td>No</td>\n",
       "      <td>No</td>\n",
       "      <td>2016-05-02</td>\n",
       "    </tr>\n",
       "    <tr>\n",
       "      <th>4</th>\n",
       "      <td>5</td>\n",
       "      <td>2016/03/02 15:53:00</td>\n",
       "      <td>model_A</td>\n",
       "      <td>1</td>\n",
       "      <td>1289</td>\n",
       "      <td>Hawkins</td>\n",
       "      <td>-73.979012</td>\n",
       "      <td>40.745266</td>\n",
       "      <td>-73.979240</td>\n",
       "      <td>40.772480</td>\n",
       "      <td>...</td>\n",
       "      <td>89.0</td>\n",
       "      <td>11.1</td>\n",
       "      <td>170</td>\n",
       "      <td>1.6</td>\n",
       "      <td>30.0</td>\n",
       "      <td>5.1</td>\n",
       "      <td>No</td>\n",
       "      <td>Y</td>\n",
       "      <td>No</td>\n",
       "      <td>2016-03-02</td>\n",
       "    </tr>\n",
       "  </tbody>\n",
       "</table>\n",
       "<p>5 rows × 23 columns</p>\n",
       "</div>"
      ],
      "text/plain": [
       "   id        starting_time model_van  num_packages  delivery_time     town  \\\n",
       "0   1  2016/04/14 20:53:00   model_A             3            448  Hawkins   \n",
       "1   2  2016/05/30 23:12:00   model_B             1            784  Hawkins   \n",
       "2   3  2016/03/03 11:54:00   model_B             1            844  Hawkins   \n",
       "3   4  2016/05/02 12:34:00   model_A             1           2076  Hawkins   \n",
       "4   5  2016/03/02 15:53:00   model_A             1           1289  Hawkins   \n",
       "\n",
       "   start_Longitude  start_Latitude  end_Longitude  end_Latitude  ...  \\\n",
       "0       -73.950912       40.825974     -73.944740     40.814163  ...   \n",
       "1       -73.985680       40.760487     -73.942482     40.786232  ...   \n",
       "2       -73.985420       40.758389     -74.007294     40.726639  ...   \n",
       "3       -73.870964       40.773792     -73.989090     40.746052  ...   \n",
       "4       -73.979012       40.745266     -73.979240     40.772480  ...   \n",
       "\n",
       "  wea_humidity  wea_windspeed  wea_winddir  wea_visibility  wea_pressure  \\\n",
       "0         54.0           16.7          170            16.1          30.4   \n",
       "1         79.0            9.3            0            16.1          30.0   \n",
       "2         31.0            9.3          250            16.1          30.2   \n",
       "3         85.0           13.0          300             4.0          30.1   \n",
       "4         89.0           11.1          170             1.6          30.0   \n",
       "\n",
       "   wea_precipitation  wea_fog  wea_rain  wea_snow        date  \n",
       "0                NaN       No        No        No  2016-04-14  \n",
       "1                NaN       No        No        No  2016-05-30  \n",
       "2                NaN       No        No        No  2016-03-03  \n",
       "3                NaN       No        No        No  2016-05-02  \n",
       "4                5.1       No         Y        No  2016-03-02  \n",
       "\n",
       "[5 rows x 23 columns]"
      ]
     },
     "execution_count": 45,
     "metadata": {},
     "output_type": "execute_result"
    }
   ],
   "source": [
    "df.head()"
   ]
  },
  {
   "cell_type": "code",
   "execution_count": 48,
   "id": "b8a4f8c9",
   "metadata": {},
   "outputs": [],
   "source": [
    "#holidays"
   ]
  },
  {
   "cell_type": "code",
   "execution_count": 50,
   "id": "60f4d2bc",
   "metadata": {},
   "outputs": [
    {
     "data": {
      "text/plain": [
       "array(['2016-01-01', '2016-01-18', '2016-02-12', '2016-02-15',\n",
       "       '2016-05-08', '2016-05-30', '2016-06-19', '2016-07-04',\n",
       "       '2016-09-05', '2016-10-10', '2016-11-11', '2016-11-24',\n",
       "       '2016-12-26'], dtype=object)"
      ]
     },
     "execution_count": 50,
     "metadata": {},
     "output_type": "execute_result"
    }
   ],
   "source": [
    "holidays_list = holidays.date.values\n",
    "holidays_list"
   ]
  },
  {
   "cell_type": "code",
   "execution_count": 55,
   "id": "44731bd5",
   "metadata": {},
   "outputs": [],
   "source": [
    "holiday = []\n",
    "for i in df.date.values:\n",
    "    if str(i) in holidays_list:\n",
    "        holiday.append('Y')\n",
    "    else:\n",
    "        holiday.append('N')"
   ]
  },
  {
   "cell_type": "code",
   "execution_count": 56,
   "id": "75185b9c",
   "metadata": {},
   "outputs": [],
   "source": [
    "df['holidays'] = holiday"
   ]
  },
  {
   "cell_type": "code",
   "execution_count": 57,
   "id": "816d5a49",
   "metadata": {},
   "outputs": [
    {
     "data": {
      "text/plain": [
       "N    8176\n",
       "Y     318\n",
       "Name: holidays, dtype: int64"
      ]
     },
     "execution_count": 57,
     "metadata": {},
     "output_type": "execute_result"
    }
   ],
   "source": [
    "df['holidays'].value_counts()"
   ]
  },
  {
   "cell_type": "code",
   "execution_count": 60,
   "id": "3eab3d18",
   "metadata": {},
   "outputs": [],
   "source": [
    "df.starting_time = pd.to_datetime(df.starting_time)"
   ]
  },
  {
   "cell_type": "code",
   "execution_count": 72,
   "id": "3ea34064",
   "metadata": {},
   "outputs": [
    {
     "data": {
      "text/plain": [
       "0"
      ]
     },
     "execution_count": 72,
     "metadata": {},
     "output_type": "execute_result"
    }
   ],
   "source": [
    "df.starting_time[0].second"
   ]
  },
  {
   "cell_type": "code",
   "execution_count": 75,
   "id": "e58f2d61",
   "metadata": {},
   "outputs": [],
   "source": [
    "minute = [x.minute for x in df.starting_time]\n",
    "hour = [x.hour for x in df.starting_time]\n",
    "year = [x.year for x in df.starting_time]\n",
    "month = [x.month for x in df.starting_time]\n",
    "day = [x.day for x in df.starting_time]"
   ]
  },
  {
   "cell_type": "code",
   "execution_count": 76,
   "id": "618eaf09",
   "metadata": {},
   "outputs": [],
   "source": [
    "df['year'] = year\n",
    "df['month'] = month\n",
    "df['day'] = day\n",
    "df['hour'] = hour\n",
    "df['minute'] = minute"
   ]
  },
  {
   "cell_type": "code",
   "execution_count": 77,
   "id": "f83d4d23",
   "metadata": {},
   "outputs": [
    {
     "data": {
      "text/plain": [
       "Index(['id', 'starting_time', 'model_van', 'num_packages', 'delivery_time',\n",
       "       'town', 'start_Longitude', 'start_Latitude', 'end_Longitude',\n",
       "       'end_Latitude', 'wea_conditions', 'wea_temp', 'wea_dptemp',\n",
       "       'wea_humidity', 'wea_windspeed', 'wea_winddir', 'wea_visibility',\n",
       "       'wea_pressure', 'wea_precipitation', 'wea_fog', 'wea_rain', 'wea_snow',\n",
       "       'date', 'holidays', 'year', 'month', 'day', 'hour', 'minute'],\n",
       "      dtype='object')"
      ]
     },
     "execution_count": 77,
     "metadata": {},
     "output_type": "execute_result"
    }
   ],
   "source": [
    "df.columns"
   ]
  },
  {
   "cell_type": "code",
   "execution_count": 81,
   "id": "a4b420dd",
   "metadata": {},
   "outputs": [],
   "source": [
    "ignore_columns = ['id','starting_time','date']\n",
    "train_df = df.drop(ignore_columns,axis = 1)"
   ]
  },
  {
   "cell_type": "code",
   "execution_count": 82,
   "id": "742f045d",
   "metadata": {},
   "outputs": [
    {
     "data": {
      "text/plain": [
       "Index(['model_van', 'num_packages', 'delivery_time', 'town', 'start_Longitude',\n",
       "       'start_Latitude', 'end_Longitude', 'end_Latitude', 'wea_conditions',\n",
       "       'wea_temp', 'wea_dptemp', 'wea_humidity', 'wea_windspeed',\n",
       "       'wea_winddir', 'wea_visibility', 'wea_pressure', 'wea_precipitation',\n",
       "       'wea_fog', 'wea_rain', 'wea_snow', 'holidays', 'year', 'month', 'day',\n",
       "       'hour', 'minute'],\n",
       "      dtype='object')"
      ]
     },
     "execution_count": 82,
     "metadata": {},
     "output_type": "execute_result"
    }
   ],
   "source": [
    "train_df.columns"
   ]
  },
  {
   "cell_type": "code",
   "execution_count": 84,
   "id": "767e81aa",
   "metadata": {},
   "outputs": [],
   "source": [
    "X = train_df.drop('delivery_time' , axis = 1)\n",
    "y = train_df['delivery_time']"
   ]
  },
  {
   "cell_type": "code",
   "execution_count": 86,
   "id": "8a448be9",
   "metadata": {},
   "outputs": [
    {
     "data": {
      "text/plain": [
       "((6370, 25), (6370,), (2124, 25), (2124,))"
      ]
     },
     "execution_count": 86,
     "metadata": {},
     "output_type": "execute_result"
    }
   ],
   "source": [
    "from sklearn.model_selection import train_test_split\n",
    "X_train , X_test , y_train , y_test = train_test_split(X , y)\n",
    "X_train.shape , y_train.shape , X_test.shape , y_test.shape"
   ]
  },
  {
   "cell_type": "code",
   "execution_count": 99,
   "id": "73f104af",
   "metadata": {},
   "outputs": [],
   "source": [
    "cat_vars = ['model_van','wea_conditions', 'wea_fog' , 'wea_rain','wea_snow']\n",
    "num_vars = list(set(X_train.columns) - set(cat_vars))"
   ]
  },
  {
   "cell_type": "code",
   "execution_count": 100,
   "id": "775977ce",
   "metadata": {},
   "outputs": [
    {
     "data": {
      "text/plain": [
       "25"
      ]
     },
     "execution_count": 100,
     "metadata": {},
     "output_type": "execute_result"
    }
   ],
   "source": [
    "len(cat_features) + len(num_features)"
   ]
  },
  {
   "cell_type": "code",
   "execution_count": 101,
   "id": "a7d440f3",
   "metadata": {},
   "outputs": [
    {
     "data": {
      "text/plain": [
       "num_packages            1.000000\n",
       "start_Longitude       -73.982128\n",
       "start_Latitude         40.754299\n",
       "end_Longitude         -73.980217\n",
       "end_Latitude           40.754820\n",
       "wea_temp               11.100000\n",
       "wea_dptemp              3.300000\n",
       "wea_humidity           55.000000\n",
       "wea_windspeed           9.300000\n",
       "wea_winddir             0.000000\n",
       "wea_visibility         16.100000\n",
       "wea_pressure           30.000000\n",
       "wea_precipitation       0.500000\n",
       "year                 2016.000000\n",
       "month                   3.000000\n",
       "day                    15.000000\n",
       "hour                   14.000000\n",
       "minute                 53.000000\n",
       "dtype: float64"
      ]
     },
     "execution_count": 101,
     "metadata": {},
     "output_type": "execute_result"
    }
   ],
   "source": [
    "X_train.median()"
   ]
  },
  {
   "cell_type": "code",
   "execution_count": 102,
   "id": "9bda83da",
   "metadata": {},
   "outputs": [],
   "source": [
    "X_train = X_train.fillna(X_train.median())\n",
    "X_test = X_test.fillna(X_train.median())"
   ]
  },
  {
   "cell_type": "code",
   "execution_count": 107,
   "id": "02620bea",
   "metadata": {},
   "outputs": [],
   "source": [
    "from sklearn.preprocessing import StandardScaler , OneHotEncoder"
   ]
  },
  {
   "cell_type": "code",
   "execution_count": 110,
   "id": "245d2974",
   "metadata": {},
   "outputs": [],
   "source": [
    "X_train = pd.get_dummies(X_train , drop_first = True)\n",
    "X_test = pd.get_dummies(X_test , drop_first = True)"
   ]
  },
  {
   "cell_type": "code",
   "execution_count": 111,
   "id": "d9c96033",
   "metadata": {},
   "outputs": [
    {
     "data": {
      "text/plain": [
       "((6370, 35), (2124, 35))"
      ]
     },
     "execution_count": 111,
     "metadata": {},
     "output_type": "execute_result"
    }
   ],
   "source": [
    "X_train.shape , X_test.shape"
   ]
  },
  {
   "cell_type": "code",
   "execution_count": 135,
   "id": "43f3b4d9",
   "metadata": {},
   "outputs": [
    {
     "data": {
      "text/plain": [
       "Index(['num_packages', 'start_Longitude', 'start_Latitude', 'end_Longitude',\n",
       "       'end_Latitude', 'wea_temp', 'wea_dptemp', 'wea_humidity',\n",
       "       'wea_windspeed', 'wea_winddir', 'wea_visibility', 'wea_pressure',\n",
       "       'wea_precipitation', 'year', 'month', 'day', 'hour', 'minute',\n",
       "       'model_van_model_B', 'wea_conditions_Haze', 'wea_conditions_Heavy_Rain',\n",
       "       'wea_conditions_Light_Freezing_Rain', 'wea_conditions_Light_Rain',\n",
       "       'wea_conditions_Light_Snow', 'wea_conditions_Mostly_Cloudy',\n",
       "       'wea_conditions_Overcast', 'wea_conditions_Partly_Cloudy',\n",
       "       'wea_conditions_Rain', 'wea_conditions_Scattered_Clouds',\n",
       "       'wea_conditions_Snow', 'wea_conditions_Unknown', 'wea_fog_Y',\n",
       "       'wea_rain_Y', 'wea_snow_Y', 'holidays_Y'],\n",
       "      dtype='object')"
      ]
     },
     "execution_count": 135,
     "metadata": {},
     "output_type": "execute_result"
    }
   ],
   "source": [
    "X_train.columns"
   ]
  },
  {
   "cell_type": "code",
   "execution_count": 137,
   "id": "9624eba2",
   "metadata": {},
   "outputs": [],
   "source": [
    "# X_test['wea_conditions_Heavy_Snow']"
   ]
  },
  {
   "cell_type": "code",
   "execution_count": 113,
   "id": "ea4ad017",
   "metadata": {},
   "outputs": [],
   "source": [
    "scaler = StandardScaler().fit(X_train)\n",
    "X_train_std = scaler.transform(X_train)\n",
    "X_test_std = scaler.transform(X_test)"
   ]
  },
  {
   "cell_type": "code",
   "execution_count": 114,
   "id": "2d1eada4",
   "metadata": {},
   "outputs": [
    {
     "data": {
      "text/plain": [
       "((6370, 35), (2124, 35))"
      ]
     },
     "execution_count": 114,
     "metadata": {},
     "output_type": "execute_result"
    }
   ],
   "source": [
    "X_train_std.shape , X_test_std.shape"
   ]
  },
  {
   "cell_type": "code",
   "execution_count": 115,
   "id": "c8771e62",
   "metadata": {},
   "outputs": [],
   "source": [
    "from sklearn.ensemble import RandomForestRegressor"
   ]
  },
  {
   "cell_type": "code",
   "execution_count": 127,
   "id": "35d885d0",
   "metadata": {},
   "outputs": [
    {
     "data": {
      "text/plain": [
       "RandomForestRegressor(max_depth=2, random_state=0)"
      ]
     },
     "execution_count": 127,
     "metadata": {},
     "output_type": "execute_result"
    }
   ],
   "source": [
    "regr = RandomForestRegressor(max_depth=2, random_state=0)\n",
    "regr.fit(X_train_std, y_train)"
   ]
  },
  {
   "cell_type": "code",
   "execution_count": 128,
   "id": "121fc630",
   "metadata": {},
   "outputs": [],
   "source": [
    "from sklearn.metrics import mean_absolute_error , r2_score"
   ]
  },
  {
   "cell_type": "code",
   "execution_count": 129,
   "id": "3d534ebb",
   "metadata": {},
   "outputs": [
    {
     "data": {
      "text/plain": [
       "(766.1718995290424, 779.1483050847457)"
      ]
     },
     "execution_count": 129,
     "metadata": {},
     "output_type": "execute_result"
    }
   ],
   "source": [
    "y_train.mean() ,y_test.mean()"
   ]
  },
  {
   "cell_type": "code",
   "execution_count": 130,
   "id": "04760605",
   "metadata": {},
   "outputs": [],
   "source": [
    "y_train_pred = regr.predict(X_train_std)\n",
    "y_test_pred = regr.predict(X_test_std)"
   ]
  },
  {
   "cell_type": "code",
   "execution_count": 122,
   "id": "50738ce0",
   "metadata": {},
   "outputs": [
    {
     "data": {
      "text/plain": [
       "(352.9269226959425, 354.826111156318)"
      ]
     },
     "execution_count": 122,
     "metadata": {},
     "output_type": "execute_result"
    }
   ],
   "source": [
    "mean_absolute_error(y_train,y_train_pred) , mean_absolute_error(y_test,y_test_pred)"
   ]
  },
  {
   "cell_type": "code",
   "execution_count": 131,
   "id": "041352fa",
   "metadata": {},
   "outputs": [
    {
     "data": {
      "text/plain": [
       "(352.9269226959425, 354.8172959978886)"
      ]
     },
     "execution_count": 131,
     "metadata": {},
     "output_type": "execute_result"
    }
   ],
   "source": [
    "mean_absolute_error(y_train,y_train_pred) , mean_absolute_error(y_test,y_test_pred)"
   ]
  },
  {
   "cell_type": "code",
   "execution_count": 125,
   "id": "4defd2ed",
   "metadata": {},
   "outputs": [
    {
     "data": {
      "text/plain": [
       "(0.213396223872649, 0.24575339417841457)"
      ]
     },
     "execution_count": 125,
     "metadata": {},
     "output_type": "execute_result"
    }
   ],
   "source": [
    "r2_score(y_train,y_train_pred) , r2_score(y_test,y_test_pred)"
   ]
  },
  {
   "cell_type": "code",
   "execution_count": 132,
   "id": "f546f1a2",
   "metadata": {},
   "outputs": [],
   "source": [
    "import pickle\n",
    "# now you can save it to a file\n",
    "with open('model.pkl', 'wb') as f:\n",
    "    pickle.dump(regr, f)"
   ]
  },
  {
   "cell_type": "code",
   "execution_count": 138,
   "id": "3d627f3b",
   "metadata": {},
   "outputs": [
    {
     "data": {
      "text/plain": [
       "0.9500683232113993"
      ]
     },
     "execution_count": 138,
     "metadata": {},
     "output_type": "execute_result"
    }
   ],
   "source": [
    "# -----\n",
    "# Coarse-Grained RandomForestRegressor GridSearch\n",
    "# -----\n",
    "\n",
    "from sklearn.model_selection import GridSearchCV\n",
    "\n",
    "param_grid = {\n",
    "    'max_depth' : [2,4,8,16,32],\n",
    "    'n_estimators' : [50,100,200,500,1000]\n",
    "    }\n",
    "\n",
    "from sklearn.model_selection import GridSearchCV\n",
    "\n",
    "\n",
    "clf = GridSearchCV(RandomForestRegressor(), param_grid)\n",
    "clf.fit(X_train_std,y_train)\n",
    "clf.score(X_train_std,y_train)\n"
   ]
  },
  {
   "cell_type": "code",
   "execution_count": 139,
   "id": "a12a8120",
   "metadata": {},
   "outputs": [
    {
     "data": {
      "text/plain": [
       "RandomForestRegressor(max_depth=32, n_estimators=1000)"
      ]
     },
     "execution_count": 139,
     "metadata": {},
     "output_type": "execute_result"
    }
   ],
   "source": [
    "clf.best_estimator_"
   ]
  },
  {
   "cell_type": "code",
   "execution_count": 192,
   "id": "a89ddb41",
   "metadata": {},
   "outputs": [
    {
     "data": {
      "text/plain": [
       "RandomForestRegressor(max_depth=32, n_estimators=1000)"
      ]
     },
     "execution_count": 192,
     "metadata": {},
     "output_type": "execute_result"
    }
   ],
   "source": [
    "model = RandomForestRegressor(max_depth= 32, n_estimators=1000)\n",
    "model.fit(X_train_std , y_train)"
   ]
  },
  {
   "cell_type": "code",
   "execution_count": 193,
   "id": "223120dd",
   "metadata": {},
   "outputs": [],
   "source": [
    "y_train_pred = model.predict(X_train_std)\n",
    "y_test_pred = model.predict(X_test_std)"
   ]
  },
  {
   "cell_type": "code",
   "execution_count": 194,
   "id": "d7e047da",
   "metadata": {},
   "outputs": [
    {
     "data": {
      "text/plain": [
       "(84.04918336444626, 227.15014169885941)"
      ]
     },
     "execution_count": 194,
     "metadata": {},
     "output_type": "execute_result"
    }
   ],
   "source": [
    "mean_absolute_error(y_train,y_train_pred) , mean_absolute_error(y_test,y_test_pred)"
   ]
  },
  {
   "cell_type": "code",
   "execution_count": 226,
   "id": "717a769e",
   "metadata": {},
   "outputs": [
    {
     "data": {
      "text/plain": [
       "(-0.024459340596189705, -0.030744698003219106)"
      ]
     },
     "execution_count": 226,
     "metadata": {},
     "output_type": "execute_result"
    }
   ],
   "source": [
    "r2_score(y_train,y_train_pred) , r2_score(y_test,y_test_pred)"
   ]
  },
  {
   "cell_type": "code",
   "execution_count": 169,
   "id": "8120f977",
   "metadata": {},
   "outputs": [],
   "source": [
    "from sklearn.linear_model import LinearRegression\n",
    "lr = LinearRegression().fit(X_train_std , y_train)"
   ]
  },
  {
   "cell_type": "code",
   "execution_count": 170,
   "id": "1077d49e",
   "metadata": {},
   "outputs": [],
   "source": [
    "y_train_pred = lr.predict(X_train_std)\n",
    "y_test_pred = lr.predict(X_test_std)"
   ]
  },
  {
   "cell_type": "code",
   "execution_count": 171,
   "id": "504c7422",
   "metadata": {},
   "outputs": [
    {
     "data": {
      "text/plain": [
       "(364.7051671335574, 372.61041886599793)"
      ]
     },
     "execution_count": 171,
     "metadata": {},
     "output_type": "execute_result"
    }
   ],
   "source": [
    "mean_absolute_error(y_train,y_train_pred) , mean_absolute_error(y_test,y_test_pred)"
   ]
  },
  {
   "cell_type": "code",
   "execution_count": 172,
   "id": "972a2275",
   "metadata": {},
   "outputs": [
    {
     "data": {
      "text/plain": [
       "(0.1438703172314002, 0.14983984006870754)"
      ]
     },
     "execution_count": 172,
     "metadata": {},
     "output_type": "execute_result"
    }
   ],
   "source": [
    "r2_score(y_train,y_train_pred) , r2_score(y_test,y_test_pred)"
   ]
  },
  {
   "cell_type": "code",
   "execution_count": 219,
   "id": "9b75c518",
   "metadata": {},
   "outputs": [],
   "source": [
    "from sklearn.svm import SVR\n",
    "lr = SVR(kernel = 'rbf').fit(X_train_std , y_train)"
   ]
  },
  {
   "cell_type": "code",
   "execution_count": 220,
   "id": "2a3a9e78",
   "metadata": {},
   "outputs": [],
   "source": [
    "y_train_pred = lr.predict(X_train_std)\n",
    "y_test_pred = lr.predict(X_test_std)"
   ]
  },
  {
   "cell_type": "code",
   "execution_count": 221,
   "id": "09e5cdc0",
   "metadata": {},
   "outputs": [
    {
     "data": {
      "text/plain": [
       "(376.7908999289267, 387.3471376467186)"
      ]
     },
     "execution_count": 221,
     "metadata": {},
     "output_type": "execute_result"
    }
   ],
   "source": [
    "mean_absolute_error(y_train,y_train_pred) , mean_absolute_error(y_test,y_test_pred)"
   ]
  },
  {
   "cell_type": "code",
   "execution_count": 222,
   "id": "7c9225eb",
   "metadata": {},
   "outputs": [
    {
     "data": {
      "text/plain": [
       "(-0.03364197540760716, -0.04014830107461287)"
      ]
     },
     "execution_count": 222,
     "metadata": {},
     "output_type": "execute_result"
    }
   ],
   "source": [
    "r2_score(y_train,y_train_pred) , r2_score(y_test,y_test_pred)"
   ]
  },
  {
   "cell_type": "code",
   "execution_count": null,
   "id": "2c0a91b3",
   "metadata": {},
   "outputs": [],
   "source": [
    "r2_score(y_train,y_train_pred) , r2_score(y_test,y_test_pred)"
   ]
  },
  {
   "cell_type": "code",
   "execution_count": 223,
   "id": "aa4e2462",
   "metadata": {},
   "outputs": [
    {
     "data": {
      "text/plain": [
       "RandomForestRegressor(max_depth=32, n_estimators=1000)"
      ]
     },
     "execution_count": 223,
     "metadata": {},
     "output_type": "execute_result"
    }
   ],
   "source": [
    "### saving best random forest model\n",
    "\n",
    "model"
   ]
  },
  {
   "cell_type": "code",
   "execution_count": 224,
   "id": "2ebecb76",
   "metadata": {},
   "outputs": [],
   "source": [
    "import pickle\n",
    "# now you can save it to a file\n",
    "with open('best_model.pkl', 'wb') as f:\n",
    "    pickle.dump(regr, f)"
   ]
  },
  {
   "cell_type": "code",
   "execution_count": 231,
   "id": "cb6eadaa",
   "metadata": {},
   "outputs": [
    {
     "name": "stderr",
     "output_type": "stream",
     "text": [
      "C:\\Users\\shubh\\anaconda3\\lib\\site-packages\\seaborn\\_decorators.py:36: FutureWarning: Pass the following variables as keyword args: x, y. From version 0.12, the only valid positional argument will be `data`, and passing other arguments without an explicit keyword will result in an error or misinterpretation.\n",
      "  warnings.warn(\n"
     ]
    },
    {
     "data": {
      "text/plain": [
       "<AxesSubplot:xlabel='delivery_time'>"
      ]
     },
     "execution_count": 231,
     "metadata": {},
     "output_type": "execute_result"
    },
    {
     "data": {
      "image/png": "[encoded data removed]",
      "text/plain": [
       "<Figure size 432x288 with 1 Axes>"
      ]
     },
     "metadata": {
      "needs_background": "light"
     },
     "output_type": "display_data"
    }
   ],
   "source": [
    "sns.scatterplot(y_train , y_train_pred)"
   ]
  },
  {
   "cell_type": "code",
   "execution_count": 232,
   "id": "5ae75103",
   "metadata": {},
   "outputs": [
    {
     "name": "stderr",
     "output_type": "stream",
     "text": [
      "C:\\Users\\shubh\\anaconda3\\lib\\site-packages\\seaborn\\_decorators.py:36: FutureWarning: Pass the following variables as keyword args: x, y. From version 0.12, the only valid positional argument will be `data`, and passing other arguments without an explicit keyword will result in an error or misinterpretation.\n",
      "  warnings.warn(\n"
     ]
    },
    {
     "data": {
      "text/plain": [
       "<AxesSubplot:xlabel='delivery_time'>"
      ]
     },
     "execution_count": 232,
     "metadata": {},
     "output_type": "execute_result"
    },
    {
     "data": {
      "image/png": "[encoded data removed]",
      "text/plain": [
       "<Figure size 432x288 with 1 Axes>"
      ]
     },
     "metadata": {
      "needs_background": "light"
     },
     "output_type": "display_data"
    }
   ],
   "source": [
    "sns.scatterplot(y_test , y_test_pred)"
   ]
  },
  {
   "cell_type": "code",
   "execution_count": 234,
   "id": "d4340529",
   "metadata": {},
   "outputs": [
    {
     "data": {
      "text/plain": [
       "<AxesSubplot:>"
      ]
     },
     "execution_count": 234,
     "metadata": {},
     "output_type": "execute_result"
    },
    {
     "data": {
      "image/png": "[encoded data removed]",
      "text/plain": [
       "<Figure size 432x288 with 1 Axes>"
      ]
     },
     "metadata": {
      "needs_background": "light"
     },
     "output_type": "display_data"
    }
   ],
   "source": [
    "pd.Series(y_train).plot(kind = 'bar')"
   ]
  },
  {
   "cell_type": "code",
   "execution_count": 235,
   "id": "dc58fe65",
   "metadata": {},
   "outputs": [
    {
     "data": {
      "image/png": "[encoded data removed]",
      "text/plain": [
       "<Figure size 432x288 with 1 Axes>"
      ]
     },
     "metadata": {
      "needs_background": "light"
     },
     "output_type": "display_data"
    }
   ],
   "source": [
    "pd.Series(y_train_pred).plot(kind = 'bar');"
   ]
  },
  {
   "cell_type": "code",
   "execution_count": 236,
   "id": "1afd2c27",
   "metadata": {},
   "outputs": [],
   "source": [
    "import tensorflow as tf"
   ]
  },
  {
   "cell_type": "code",
   "execution_count": 238,
   "id": "5d771892",
   "metadata": {},
   "outputs": [
    {
     "name": "stdout",
     "output_type": "stream",
     "text": [
      "Epoch 1/100\n",
      "200/200 [==============================] - 0s 2ms/step - loss: 757.8394 - mae: 757.8394 - val_loss: 741.4164 - val_mae: 741.4164\n",
      "Epoch 2/100\n",
      "200/200 [==============================] - 0s 2ms/step - loss: 602.2415 - mae: 602.2415 - val_loss: 453.1097 - val_mae: 453.1097\n",
      "Epoch 3/100\n",
      "200/200 [==============================] - 0s 2ms/step - loss: 381.5692 - mae: 381.5692 - val_loss: 366.9093 - val_mae: 366.9093\n",
      "Epoch 4/100\n",
      "200/200 [==============================] - 0s 2ms/step - loss: 358.3902 - mae: 358.3902 - val_loss: 366.6348 - val_mae: 366.6348\n",
      "Epoch 5/100\n",
      "200/200 [==============================] - 0s 2ms/step - loss: 357.8136 - mae: 357.8136 - val_loss: 364.8157 - val_mae: 364.8157\n",
      "Epoch 6/100\n",
      "200/200 [==============================] - 0s 2ms/step - loss: 357.4583 - mae: 357.4583 - val_loss: 364.9555 - val_mae: 364.9555\n",
      "Epoch 7/100\n",
      "200/200 [==============================] - 0s 2ms/step - loss: 357.1128 - mae: 357.1128 - val_loss: 365.6606 - val_mae: 365.6606\n",
      "Epoch 8/100\n",
      "200/200 [==============================] - 0s 2ms/step - loss: 357.4682 - mae: 357.4682 - val_loss: 365.6024 - val_mae: 365.6024\n",
      "Epoch 9/100\n",
      "200/200 [==============================] - 0s 2ms/step - loss: 357.1618 - mae: 357.1618 - val_loss: 365.8851 - val_mae: 365.8851\n",
      "Epoch 10/100\n",
      "200/200 [==============================] - 0s 2ms/step - loss: 357.2518 - mae: 357.2518 - val_loss: 365.4642 - val_mae: 365.4642\n",
      "Epoch 11/100\n",
      "200/200 [==============================] - 0s 2ms/step - loss: 357.3061 - mae: 357.3061 - val_loss: 364.5733 - val_mae: 364.5733\n",
      "Epoch 12/100\n",
      "200/200 [==============================] - 0s 2ms/step - loss: 357.2036 - mae: 357.2036 - val_loss: 365.2958 - val_mae: 365.2958\n",
      "Epoch 13/100\n",
      "200/200 [==============================] - 0s 2ms/step - loss: 357.2989 - mae: 357.2989 - val_loss: 365.0050 - val_mae: 365.0050\n",
      "Epoch 14/100\n",
      "200/200 [==============================] - 0s 2ms/step - loss: 357.3300 - mae: 357.3300 - val_loss: 364.5133 - val_mae: 364.5133\n",
      "Epoch 15/100\n",
      "200/200 [==============================] - 0s 2ms/step - loss: 357.1191 - mae: 357.1191 - val_loss: 364.9167 - val_mae: 364.9167\n",
      "Epoch 16/100\n",
      "200/200 [==============================] - 0s 2ms/step - loss: 356.8604 - mae: 356.8604 - val_loss: 364.6604 - val_mae: 364.6604\n",
      "Epoch 17/100\n",
      "200/200 [==============================] - 0s 2ms/step - loss: 357.0953 - mae: 357.0953 - val_loss: 365.5593 - val_mae: 365.5593\n",
      "Epoch 18/100\n",
      "200/200 [==============================] - 0s 2ms/step - loss: 357.2011 - mae: 357.2011 - val_loss: 365.4261 - val_mae: 365.4261\n",
      "Epoch 19/100\n",
      "200/200 [==============================] - 0s 2ms/step - loss: 357.1082 - mae: 357.1082 - val_loss: 363.7760 - val_mae: 363.7760\n",
      "Epoch 20/100\n",
      "200/200 [==============================] - 0s 2ms/step - loss: 357.4100 - mae: 357.4100 - val_loss: 364.7154 - val_mae: 364.7154\n",
      "Epoch 21/100\n",
      "200/200 [==============================] - 0s 2ms/step - loss: 357.0997 - mae: 357.0997 - val_loss: 365.9557 - val_mae: 365.9557\n",
      "Epoch 22/100\n",
      "200/200 [==============================] - 0s 2ms/step - loss: 356.9009 - mae: 356.9009 - val_loss: 366.3375 - val_mae: 366.3375\n",
      "Epoch 23/100\n",
      "200/200 [==============================] - 0s 2ms/step - loss: 357.1779 - mae: 357.1779 - val_loss: 365.5129 - val_mae: 365.5129\n",
      "Epoch 24/100\n",
      "200/200 [==============================] - 1s 3ms/step - loss: 357.1426 - mae: 357.1426 - val_loss: 365.4930 - val_mae: 365.4930\n",
      "Epoch 25/100\n",
      "200/200 [==============================] - 0s 2ms/step - loss: 357.3098 - mae: 357.3098 - val_loss: 365.0707 - val_mae: 365.0707\n",
      "Epoch 26/100\n",
      "200/200 [==============================] - 0s 2ms/step - loss: 356.8864 - mae: 356.8864 - val_loss: 364.7572 - val_mae: 364.7572\n",
      "Epoch 27/100\n",
      "200/200 [==============================] - 0s 2ms/step - loss: 357.1775 - mae: 357.1775 - val_loss: 365.2364 - val_mae: 365.2364\n",
      "Epoch 28/100\n",
      "200/200 [==============================] - 0s 2ms/step - loss: 357.1976 - mae: 357.1976 - val_loss: 364.5947 - val_mae: 364.5947\n",
      "Epoch 29/100\n",
      "200/200 [==============================] - 0s 2ms/step - loss: 356.7996 - mae: 356.7996 - val_loss: 365.7662 - val_mae: 365.7662\n",
      "Epoch 30/100\n",
      "200/200 [==============================] - 0s 2ms/step - loss: 357.3669 - mae: 357.3669 - val_loss: 365.1574 - val_mae: 365.1574\n",
      "Epoch 31/100\n",
      "200/200 [==============================] - 0s 2ms/step - loss: 357.0529 - mae: 357.0529 - val_loss: 364.7800 - val_mae: 364.7800\n",
      "Epoch 32/100\n",
      "200/200 [==============================] - 0s 2ms/step - loss: 357.2970 - mae: 357.2970 - val_loss: 364.8237 - val_mae: 364.8237\n",
      "Epoch 33/100\n",
      "200/200 [==============================] - 0s 2ms/step - loss: 356.9759 - mae: 356.9759 - val_loss: 364.7986 - val_mae: 364.7986\n",
      "Epoch 34/100\n",
      "200/200 [==============================] - 0s 2ms/step - loss: 357.0410 - mae: 357.0410 - val_loss: 364.9179 - val_mae: 364.9179\n",
      "Epoch 35/100\n",
      "200/200 [==============================] - 0s 2ms/step - loss: 357.0296 - mae: 357.0296 - val_loss: 365.6967 - val_mae: 365.6967\n",
      "Epoch 36/100\n",
      "200/200 [==============================] - 0s 2ms/step - loss: 357.0230 - mae: 357.0230 - val_loss: 365.2639 - val_mae: 365.2639\n",
      "Epoch 37/100\n",
      "200/200 [==============================] - 0s 2ms/step - loss: 356.9263 - mae: 356.9263 - val_loss: 365.5474 - val_mae: 365.5474\n",
      "Epoch 38/100\n",
      "200/200 [==============================] - 0s 2ms/step - loss: 357.2071 - mae: 357.2071 - val_loss: 364.8778 - val_mae: 364.8778\n",
      "Epoch 39/100\n",
      "200/200 [==============================] - 0s 2ms/step - loss: 356.8724 - mae: 356.8724 - val_loss: 365.1391 - val_mae: 365.1391\n",
      "Epoch 40/100\n",
      "200/200 [==============================] - 0s 2ms/step - loss: 356.7502 - mae: 356.7502 - val_loss: 365.3558 - val_mae: 365.3558\n",
      "Epoch 41/100\n",
      "200/200 [==============================] - 0s 2ms/step - loss: 356.8497 - mae: 356.8497 - val_loss: 366.0460 - val_mae: 366.0460\n",
      "Epoch 42/100\n",
      "200/200 [==============================] - 0s 2ms/step - loss: 357.0448 - mae: 357.0448 - val_loss: 365.3969 - val_mae: 365.3969\n",
      "Epoch 43/100\n",
      "200/200 [==============================] - 0s 2ms/step - loss: 357.2042 - mae: 357.2042 - val_loss: 365.1968 - val_mae: 365.1968\n",
      "Epoch 44/100\n",
      "200/200 [==============================] - 0s 2ms/step - loss: 356.8692 - mae: 356.8692 - val_loss: 365.6713 - val_mae: 365.6713\n",
      "Epoch 45/100\n",
      "200/200 [==============================] - 0s 2ms/step - loss: 356.8372 - mae: 356.8372 - val_loss: 364.8013 - val_mae: 364.8013\n",
      "Epoch 46/100\n",
      "200/200 [==============================] - 0s 2ms/step - loss: 357.0312 - mae: 357.0312 - val_loss: 365.1353 - val_mae: 365.1353\n",
      "Epoch 47/100\n",
      "200/200 [==============================] - 0s 2ms/step - loss: 357.1279 - mae: 357.1279 - val_loss: 365.1689 - val_mae: 365.1689\n",
      "Epoch 48/100\n",
      "200/200 [==============================] - 0s 2ms/step - loss: 357.2081 - mae: 357.2081 - val_loss: 365.8165 - val_mae: 365.8165\n",
      "Epoch 49/100\n",
      "200/200 [==============================] - 0s 2ms/step - loss: 356.8710 - mae: 356.8710 - val_loss: 364.7754 - val_mae: 364.7754\n",
      "Epoch 50/100\n",
      "200/200 [==============================] - 0s 2ms/step - loss: 357.3378 - mae: 357.3378 - val_loss: 364.9626 - val_mae: 364.9626\n",
      "Epoch 51/100\n",
      "200/200 [==============================] - 0s 2ms/step - loss: 356.8441 - mae: 356.8441 - val_loss: 365.0562 - val_mae: 365.0562\n",
      "Epoch 52/100\n",
      "200/200 [==============================] - 0s 2ms/step - loss: 356.8690 - mae: 356.8690 - val_loss: 364.2459 - val_mae: 364.2459\n",
      "Epoch 53/100\n",
      "200/200 [==============================] - 0s 2ms/step - loss: 357.1045 - mae: 357.1045 - val_loss: 365.3431 - val_mae: 365.3431\n",
      "Epoch 54/100\n",
      "200/200 [==============================] - 0s 2ms/step - loss: 356.9243 - mae: 356.9243 - val_loss: 365.8979 - val_mae: 365.8979\n",
      "Epoch 55/100\n",
      "200/200 [==============================] - 0s 2ms/step - loss: 357.0918 - mae: 357.0918 - val_loss: 365.3768 - val_mae: 365.3768\n",
      "Epoch 56/100\n",
      "200/200 [==============================] - 0s 2ms/step - loss: 356.9843 - mae: 356.9843 - val_loss: 364.3068 - val_mae: 364.3068\n",
      "Epoch 57/100\n",
      "200/200 [==============================] - 0s 2ms/step - loss: 356.9358 - mae: 356.9358 - val_loss: 364.9178 - val_mae: 364.9178\n",
      "Epoch 58/100\n",
      "200/200 [==============================] - 0s 2ms/step - loss: 356.9670 - mae: 356.9670 - val_loss: 364.4994 - val_mae: 364.4994\n"
     ]
    },
    {
     "name": "stdout",
     "output_type": "stream",
     "text": [
      "Epoch 59/100\n",
      "200/200 [==============================] - 0s 2ms/step - loss: 357.0784 - mae: 357.0784 - val_loss: 365.7417 - val_mae: 365.7417\n",
      "Epoch 60/100\n",
      "200/200 [==============================] - 0s 2ms/step - loss: 357.0757 - mae: 357.0757 - val_loss: 364.8375 - val_mae: 364.8375\n",
      "Epoch 61/100\n",
      "200/200 [==============================] - 0s 2ms/step - loss: 356.7578 - mae: 356.7578 - val_loss: 364.7530 - val_mae: 364.7530\n",
      "Epoch 62/100\n",
      "200/200 [==============================] - 0s 2ms/step - loss: 356.9142 - mae: 356.9142 - val_loss: 364.7292 - val_mae: 364.7292\n",
      "Epoch 63/100\n",
      "200/200 [==============================] - 0s 2ms/step - loss: 356.8257 - mae: 356.8257 - val_loss: 366.1125 - val_mae: 366.1125\n",
      "Epoch 64/100\n",
      "200/200 [==============================] - 0s 2ms/step - loss: 356.7674 - mae: 356.7674 - val_loss: 365.4890 - val_mae: 365.4890\n",
      "Epoch 65/100\n",
      "200/200 [==============================] - 0s 2ms/step - loss: 357.0953 - mae: 357.0953 - val_loss: 364.3084 - val_mae: 364.3084\n",
      "Epoch 66/100\n",
      "200/200 [==============================] - 0s 2ms/step - loss: 356.7047 - mae: 356.7047 - val_loss: 364.7964 - val_mae: 364.7964\n",
      "Epoch 67/100\n",
      "200/200 [==============================] - 0s 2ms/step - loss: 356.8556 - mae: 356.8556 - val_loss: 365.2616 - val_mae: 365.2616\n",
      "Epoch 68/100\n",
      "200/200 [==============================] - 0s 2ms/step - loss: 357.2787 - mae: 357.2787 - val_loss: 365.5417 - val_mae: 365.5417\n",
      "Epoch 69/100\n",
      "200/200 [==============================] - 0s 2ms/step - loss: 357.0490 - mae: 357.0490 - val_loss: 365.0834 - val_mae: 365.0834\n",
      "Epoch 70/100\n",
      "200/200 [==============================] - 0s 2ms/step - loss: 356.6972 - mae: 356.6972 - val_loss: 364.5071 - val_mae: 364.5071\n",
      "Epoch 71/100\n",
      "200/200 [==============================] - 0s 2ms/step - loss: 356.9079 - mae: 356.9079 - val_loss: 366.3338 - val_mae: 366.3338\n",
      "Epoch 72/100\n",
      "200/200 [==============================] - 0s 2ms/step - loss: 357.0154 - mae: 357.0154 - val_loss: 365.8503 - val_mae: 365.8503\n",
      "Epoch 73/100\n",
      "200/200 [==============================] - 0s 2ms/step - loss: 356.9379 - mae: 356.9379 - val_loss: 365.2198 - val_mae: 365.2198\n",
      "Epoch 74/100\n",
      "200/200 [==============================] - 0s 2ms/step - loss: 356.7408 - mae: 356.7408 - val_loss: 366.1527 - val_mae: 366.1527\n",
      "Epoch 75/100\n",
      "200/200 [==============================] - 0s 2ms/step - loss: 356.7241 - mae: 356.7241 - val_loss: 366.6066 - val_mae: 366.6066\n",
      "Epoch 76/100\n",
      "200/200 [==============================] - 0s 2ms/step - loss: 357.0044 - mae: 357.0044 - val_loss: 365.0690 - val_mae: 365.0690\n",
      "Epoch 77/100\n",
      "200/200 [==============================] - 0s 1ms/step - loss: 356.7843 - mae: 356.7843 - val_loss: 365.4917 - val_mae: 365.4917\n",
      "Epoch 78/100\n",
      "200/200 [==============================] - 0s 1ms/step - loss: 356.9203 - mae: 356.9203 - val_loss: 365.3094 - val_mae: 365.3094\n",
      "Epoch 79/100\n",
      "200/200 [==============================] - 0s 2ms/step - loss: 356.9928 - mae: 356.9928 - val_loss: 365.1403 - val_mae: 365.1403\n",
      "Epoch 80/100\n",
      "200/200 [==============================] - 0s 2ms/step - loss: 356.9253 - mae: 356.9253 - val_loss: 365.6542 - val_mae: 365.6542\n",
      "Epoch 81/100\n",
      "200/200 [==============================] - 0s 2ms/step - loss: 356.7834 - mae: 356.7834 - val_loss: 364.7642 - val_mae: 364.7642\n",
      "Epoch 82/100\n",
      "200/200 [==============================] - 0s 2ms/step - loss: 356.8856 - mae: 356.8856 - val_loss: 364.8293 - val_mae: 364.8293\n",
      "Epoch 83/100\n",
      "200/200 [==============================] - 0s 2ms/step - loss: 357.0148 - mae: 357.0148 - val_loss: 364.4172 - val_mae: 364.4172\n",
      "Epoch 84/100\n",
      "200/200 [==============================] - 0s 2ms/step - loss: 356.8483 - mae: 356.8483 - val_loss: 364.8955 - val_mae: 364.8955\n",
      "Epoch 85/100\n",
      "200/200 [==============================] - 0s 2ms/step - loss: 356.7779 - mae: 356.7779 - val_loss: 365.6855 - val_mae: 365.6855\n",
      "Epoch 86/100\n",
      "200/200 [==============================] - 0s 2ms/step - loss: 357.0538 - mae: 357.0538 - val_loss: 365.0680 - val_mae: 365.0680\n",
      "Epoch 87/100\n",
      "200/200 [==============================] - 0s 2ms/step - loss: 357.2108 - mae: 357.2108 - val_loss: 365.4202 - val_mae: 365.4202\n",
      "Epoch 88/100\n",
      "200/200 [==============================] - 0s 2ms/step - loss: 356.8976 - mae: 356.8976 - val_loss: 364.6887 - val_mae: 364.6887\n",
      "Epoch 89/100\n",
      "200/200 [==============================] - 0s 2ms/step - loss: 356.8374 - mae: 356.8374 - val_loss: 365.1223 - val_mae: 365.1223\n",
      "Epoch 90/100\n",
      "200/200 [==============================] - 0s 2ms/step - loss: 356.8144 - mae: 356.8144 - val_loss: 365.5273 - val_mae: 365.5273\n",
      "Epoch 91/100\n",
      "200/200 [==============================] - 0s 2ms/step - loss: 357.0181 - mae: 357.0181 - val_loss: 365.7929 - val_mae: 365.7929\n",
      "Epoch 92/100\n",
      "200/200 [==============================] - 0s 2ms/step - loss: 356.9080 - mae: 356.9080 - val_loss: 365.6169 - val_mae: 365.6169\n",
      "Epoch 93/100\n",
      "200/200 [==============================] - 0s 2ms/step - loss: 356.8906 - mae: 356.8906 - val_loss: 365.3965 - val_mae: 365.3965\n",
      "Epoch 94/100\n",
      "200/200 [==============================] - 0s 2ms/step - loss: 357.0450 - mae: 357.0450 - val_loss: 365.7208 - val_mae: 365.7208\n",
      "Epoch 95/100\n",
      "200/200 [==============================] - 0s 2ms/step - loss: 356.9138 - mae: 356.9138 - val_loss: 366.2107 - val_mae: 366.2107\n",
      "Epoch 96/100\n",
      "200/200 [==============================] - 0s 2ms/step - loss: 356.7965 - mae: 356.7965 - val_loss: 364.3881 - val_mae: 364.3881\n",
      "Epoch 97/100\n",
      "200/200 [==============================] - 0s 2ms/step - loss: 356.8601 - mae: 356.8601 - val_loss: 365.1015 - val_mae: 365.1015\n",
      "Epoch 98/100\n",
      "200/200 [==============================] - 0s 2ms/step - loss: 356.8181 - mae: 356.8181 - val_loss: 365.2205 - val_mae: 365.2205\n",
      "Epoch 99/100\n",
      "200/200 [==============================] - 0s 2ms/step - loss: 357.0156 - mae: 357.0156 - val_loss: 364.8205 - val_mae: 364.8205\n",
      "Epoch 100/100\n",
      "200/200 [==============================] - 0s 2ms/step - loss: 356.7745 - mae: 356.7745 - val_loss: 365.1365 - val_mae: 365.1365\n"
     ]
    }
   ],
   "source": [
    "# Set random seed\n",
    "tf.random.set_seed(42)\n",
    "\n",
    "# Add an extra layer and increase number of units\n",
    "insurance_model_2 = tf.keras.Sequential([\n",
    "  tf.keras.layers.Dense(100), # 100 units\n",
    "  tf.keras.layers.Dense(10), # 10 units\n",
    "  tf.keras.layers.Dense(1) # 1 unit (important for output layer)\n",
    "])\n",
    "\n",
    "# Compile the model\n",
    "insurance_model_2.compile(loss=tf.keras.losses.mae,\n",
    "                          optimizer=tf.keras.optimizers.Adam(lr = 0.001), # Adam works but SGD doesn't \n",
    "                          metrics=['mae'])\n",
    "\n",
    "# Fit the model and save the history (we can plot this)\n",
    "history = insurance_model_2.fit(X_train_std, y_train, epochs= 100 , validation_data= ( X_test_std,y_test))"
   ]
  },
  {
   "cell_type": "code",
   "execution_count": 239,
   "id": "d2d496dd",
   "metadata": {},
   "outputs": [],
   "source": [
    "y_train_pred = insurance_model_2.predict(X_train_std)\n",
    "y_test_pred = insurance_model_2.predict(X_test_std)"
   ]
  },
  {
   "cell_type": "code",
   "execution_count": 240,
   "id": "7505f074",
   "metadata": {},
   "outputs": [
    {
     "data": {
      "text/plain": [
       "(355.5685239687071, 365.1365342077338)"
      ]
     },
     "execution_count": 240,
     "metadata": {},
     "output_type": "execute_result"
    }
   ],
   "source": [
    "mean_absolute_error(y_train,y_train_pred) , mean_absolute_error(y_test,y_test_pred)"
   ]
  },
  {
   "cell_type": "code",
   "execution_count": 241,
   "id": "cb41e16c",
   "metadata": {},
   "outputs": [
    {
     "data": {
      "text/plain": [
       "(0.1027076256548719, 0.11134981987406778)"
      ]
     },
     "execution_count": 241,
     "metadata": {},
     "output_type": "execute_result"
    }
   ],
   "source": [
    "r2_score(y_train,y_train_pred) , r2_score(y_test,y_test_pred)"
   ]
  },
  {
   "cell_type": "code",
   "execution_count": 246,
   "id": "bf0e5695",
   "metadata": {},
   "outputs": [
    {
     "name": "stdout",
     "output_type": "stream",
     "text": [
      "Epoch 1/30\n",
      "200/200 [==============================] - 0s 2ms/step - loss: 831879.1250 - mae: 758.6870 - val_loss: 820701.8750 - val_mae: 744.8137\n",
      "Epoch 2/30\n",
      "200/200 [==============================] - 0s 2ms/step - loss: 628961.0000 - mae: 631.5613 - val_loss: 442598.9062 - val_mae: 495.8969\n",
      "Epoch 3/30\n",
      "200/200 [==============================] - 0s 2ms/step - loss: 300085.9375 - mae: 396.3625 - val_loss: 245865.1562 - val_mae: 365.1697\n",
      "Epoch 4/30\n",
      "200/200 [==============================] - 0s 2ms/step - loss: 226236.9844 - mae: 361.3278 - val_loss: 238818.7500 - val_mae: 372.4732\n",
      "Epoch 5/30\n",
      "200/200 [==============================] - 0s 2ms/step - loss: 224269.1562 - mae: 366.7396 - val_loss: 237105.6562 - val_mae: 372.1224\n",
      "Epoch 6/30\n",
      "200/200 [==============================] - 0s 2ms/step - loss: 223939.6719 - mae: 366.5306 - val_loss: 236386.4375 - val_mae: 370.5103\n",
      "Epoch 7/30\n",
      "200/200 [==============================] - 0s 2ms/step - loss: 223998.5781 - mae: 366.2610 - val_loss: 236816.0625 - val_mae: 373.2567\n",
      "Epoch 8/30\n",
      "200/200 [==============================] - 0s 2ms/step - loss: 223652.5156 - mae: 366.8566 - val_loss: 238328.5469 - val_mae: 373.7477\n",
      "Epoch 9/30\n",
      "200/200 [==============================] - 0s 2ms/step - loss: 224092.1562 - mae: 366.1550 - val_loss: 237136.4531 - val_mae: 371.1458\n",
      "Epoch 10/30\n",
      "200/200 [==============================] - 0s 2ms/step - loss: 223477.7344 - mae: 364.7052 - val_loss: 238369.0469 - val_mae: 376.6158\n",
      "Epoch 11/30\n",
      "200/200 [==============================] - 0s 2ms/step - loss: 224001.3125 - mae: 367.2128 - val_loss: 236393.0469 - val_mae: 373.4528\n",
      "Epoch 12/30\n",
      "200/200 [==============================] - 0s 2ms/step - loss: 223624.8594 - mae: 366.8046 - val_loss: 237219.0625 - val_mae: 371.4873\n",
      "Epoch 13/30\n",
      "200/200 [==============================] - 0s 2ms/step - loss: 223675.2812 - mae: 365.5490 - val_loss: 236362.0469 - val_mae: 371.0692\n",
      "Epoch 14/30\n",
      "200/200 [==============================] - 0s 2ms/step - loss: 223440.5625 - mae: 366.0974 - val_loss: 236321.2969 - val_mae: 371.6977\n",
      "Epoch 15/30\n",
      "200/200 [==============================] - 0s 2ms/step - loss: 223687.2500 - mae: 365.9323 - val_loss: 236539.0312 - val_mae: 373.1486\n",
      "Epoch 16/30\n",
      "200/200 [==============================] - 0s 2ms/step - loss: 223355.2344 - mae: 366.2379 - val_loss: 236474.2344 - val_mae: 372.9410\n",
      "Epoch 17/30\n",
      "200/200 [==============================] - 0s 2ms/step - loss: 223526.9375 - mae: 366.7400 - val_loss: 236970.3438 - val_mae: 370.6614\n",
      "Epoch 18/30\n",
      "200/200 [==============================] - 0s 2ms/step - loss: 223601.4375 - mae: 365.7519 - val_loss: 237069.1875 - val_mae: 372.5367\n",
      "Epoch 19/30\n",
      "200/200 [==============================] - 0s 2ms/step - loss: 223520.9219 - mae: 366.0361 - val_loss: 236422.6094 - val_mae: 373.0014\n",
      "Epoch 20/30\n",
      "200/200 [==============================] - 0s 2ms/step - loss: 223773.3125 - mae: 366.6888 - val_loss: 236245.1094 - val_mae: 373.3063\n",
      "Epoch 21/30\n",
      "200/200 [==============================] - 0s 2ms/step - loss: 223806.0781 - mae: 366.4912 - val_loss: 239071.8750 - val_mae: 376.2823\n",
      "Epoch 22/30\n",
      "200/200 [==============================] - 0s 2ms/step - loss: 223439.0781 - mae: 367.2302 - val_loss: 238061.4844 - val_mae: 373.2630\n",
      "Epoch 23/30\n",
      "200/200 [==============================] - 0s 2ms/step - loss: 223651.8750 - mae: 366.4887 - val_loss: 237055.8750 - val_mae: 373.0626\n",
      "Epoch 24/30\n",
      "200/200 [==============================] - 0s 2ms/step - loss: 223607.0938 - mae: 366.0385 - val_loss: 236810.5781 - val_mae: 373.8311\n",
      "Epoch 25/30\n",
      "200/200 [==============================] - 0s 2ms/step - loss: 223595.3281 - mae: 367.1039 - val_loss: 237046.9375 - val_mae: 373.1381\n",
      "Epoch 26/30\n",
      "200/200 [==============================] - 0s 2ms/step - loss: 223332.7969 - mae: 365.7581 - val_loss: 237023.8906 - val_mae: 374.4686\n",
      "Epoch 27/30\n",
      "200/200 [==============================] - 0s 2ms/step - loss: 223536.9844 - mae: 365.9492 - val_loss: 236943.2656 - val_mae: 371.3247\n",
      "Epoch 28/30\n",
      "200/200 [==============================] - 0s 2ms/step - loss: 223483.0781 - mae: 365.9735 - val_loss: 237196.6875 - val_mae: 370.6341\n",
      "Epoch 29/30\n",
      "200/200 [==============================] - 0s 2ms/step - loss: 223554.8906 - mae: 366.7610 - val_loss: 237037.0000 - val_mae: 369.7977\n",
      "Epoch 30/30\n",
      "200/200 [==============================] - 0s 2ms/step - loss: 223725.7812 - mae: 365.5847 - val_loss: 237041.1406 - val_mae: 371.8799\n"
     ]
    }
   ],
   "source": [
    "#det_coeff\n",
    "\n",
    "# Set random seed\n",
    "tf.random.set_seed(42)\n",
    "\n",
    "# Add an extra layer and increase number of units\n",
    "insurance_model_3 = tf.keras.Sequential([\n",
    "  tf.keras.layers.Dense(100), # 100 units\n",
    "  tf.keras.layers.Dense(10), # 10 units\n",
    "  tf.keras.layers.Dense(1) # 1 unit (important for output layer)\n",
    "])\n",
    "\n",
    "# Compile the model\n",
    "insurance_model_3.compile(loss=tf.keras.losses.mse,\n",
    "                          optimizer=tf.keras.optimizers.Adam(lr = 0.001), # Adam works but SGD doesn't \n",
    "                          metrics=['mae'])\n",
    "\n",
    "# Fit the model and save the history (we can plot this)\n",
    "history = insurance_model_3.fit(X_train_std, y_train, epochs= 30 , validation_data= ( X_test_std,y_test))"
   ]
  },
  {
   "cell_type": "code",
   "execution_count": 247,
   "id": "c09d90ae",
   "metadata": {},
   "outputs": [],
   "source": [
    "y_train_pred = insurance_model_3.predict(X_train_std)\n",
    "y_test_pred = insurance_model_3.predict(X_test_std)"
   ]
  },
  {
   "cell_type": "code",
   "execution_count": 248,
   "id": "f33f3b74",
   "metadata": {},
   "outputs": [
    {
     "data": {
      "text/plain": [
       "(363.95610215023885, 371.87989689311513)"
      ]
     },
     "execution_count": 248,
     "metadata": {},
     "output_type": "execute_result"
    }
   ],
   "source": [
    "mean_absolute_error(y_train,y_train_pred) , mean_absolute_error(y_test,y_test_pred)"
   ]
  },
  {
   "cell_type": "code",
   "execution_count": 249,
   "id": "c10d2349",
   "metadata": {},
   "outputs": [
    {
     "data": {
      "text/plain": [
       "(0.1428660246111586, 0.14845534885117562)"
      ]
     },
     "execution_count": 249,
     "metadata": {},
     "output_type": "execute_result"
    }
   ],
   "source": [
    "r2_score(y_train,y_train_pred) , r2_score(y_test,y_test_pred)"
   ]
  },
  {
   "cell_type": "code",
   "execution_count": 272,
   "id": "85ba639d",
   "metadata": {},
   "outputs": [
    {
     "name": "stdout",
     "output_type": "stream",
     "text": [
      "Epoch 1/100\n",
      "WARNING:tensorflow:Layer dense_38 is casting an input tensor from dtype float64 to the layer's dtype of float32, which is new behavior in TensorFlow 2.  The layer has dtype float32 because its dtype defaults to floatx.\n",
      "\n",
      "If you intended to run this layer in float32, you can safely ignore this warning. If in doubt, this warning is likely only an issue if you are porting a TensorFlow 1.X model to TensorFlow 2.\n",
      "\n",
      "To change all layers to have dtype float64 by default, call `tf.keras.backend.set_floatx('float64')`. To change just this layer, pass dtype='float64' to the layer constructor. If you are the author of this layer, you can disable autocasting by passing autocast=False to the base Layer constructor.\n",
      "\n",
      "200/200 [==============================] - 0s 2ms/step - loss: 262003.3438 - mae: 396.5545 - val_loss: 278838.0938 - val_mae: 402.4327\n",
      "Epoch 2/100\n",
      "200/200 [==============================] - 0s 1ms/step - loss: 261385.9688 - mae: 397.0125 - val_loss: 279277.9688 - val_mae: 413.4690\n",
      "Epoch 3/100\n",
      "200/200 [==============================] - 0s 1ms/step - loss: 261063.0781 - mae: 396.6932 - val_loss: 282800.2812 - val_mae: 395.5461\n",
      "Epoch 4/100\n",
      "200/200 [==============================] - 0s 1ms/step - loss: 260477.2656 - mae: 395.5950 - val_loss: 280927.2812 - val_mae: 418.6235\n",
      "Epoch 5/100\n",
      "200/200 [==============================] - 0s 2ms/step - loss: 260939.7969 - mae: 396.1050 - val_loss: 280629.0938 - val_mae: 417.7997\n",
      "Epoch 6/100\n",
      "200/200 [==============================] - 0s 2ms/step - loss: 259512.6094 - mae: 394.8761 - val_loss: 278627.1875 - val_mae: 408.9683\n",
      "Epoch 7/100\n",
      "200/200 [==============================] - 0s 1ms/step - loss: 261226.7969 - mae: 397.3203 - val_loss: 285783.0625 - val_mae: 393.9770\n",
      "Epoch 8/100\n",
      "200/200 [==============================] - 0s 2ms/step - loss: 259574.7969 - mae: 395.1385 - val_loss: 279214.8750 - val_mae: 401.9042\n",
      "Epoch 9/100\n",
      "200/200 [==============================] - 0s 2ms/step - loss: 258803.6250 - mae: 393.9489 - val_loss: 279766.6250 - val_mae: 399.7930\n",
      "Epoch 10/100\n",
      "200/200 [==============================] - 0s 1ms/step - loss: 260808.7656 - mae: 395.3022 - val_loss: 280512.3750 - val_mae: 398.4436\n",
      "Epoch 11/100\n",
      "200/200 [==============================] - 0s 1ms/step - loss: 259762.1406 - mae: 394.5273 - val_loss: 283079.6875 - val_mae: 395.8040\n",
      "Epoch 12/100\n",
      "200/200 [==============================] - 0s 2ms/step - loss: 259824.2188 - mae: 394.8508 - val_loss: 288072.6875 - val_mae: 393.0954\n",
      "Epoch 13/100\n",
      "200/200 [==============================] - 0s 2ms/step - loss: 260671.3125 - mae: 395.3686 - val_loss: 279097.2812 - val_mae: 411.9996\n",
      "Epoch 14/100\n",
      "200/200 [==============================] - 0s 1ms/step - loss: 259846.2969 - mae: 395.9445 - val_loss: 281705.1562 - val_mae: 396.8624\n",
      "Epoch 15/100\n",
      "200/200 [==============================] - 0s 1ms/step - loss: 260316.6094 - mae: 395.0949 - val_loss: 278942.7500 - val_mae: 402.7139\n",
      "Epoch 16/100\n",
      "200/200 [==============================] - 0s 2ms/step - loss: 258893.0781 - mae: 394.3531 - val_loss: 278544.3750 - val_mae: 405.1755\n",
      "Epoch 17/100\n",
      "200/200 [==============================] - 0s 2ms/step - loss: 260018.8438 - mae: 395.3106 - val_loss: 279217.7812 - val_mae: 401.1322\n",
      "Epoch 18/100\n",
      "200/200 [==============================] - 0s 2ms/step - loss: 259300.1562 - mae: 394.3363 - val_loss: 278548.8750 - val_mae: 407.3468\n",
      "Epoch 19/100\n",
      "200/200 [==============================] - 0s 1ms/step - loss: 259703.9688 - mae: 394.7731 - val_loss: 278873.3438 - val_mae: 409.6583\n",
      "Epoch 20/100\n",
      "200/200 [==============================] - 0s 1ms/step - loss: 259987.4531 - mae: 396.3873 - val_loss: 281952.7188 - val_mae: 396.7672\n",
      "Epoch 21/100\n",
      "200/200 [==============================] - 0s 2ms/step - loss: 259989.7031 - mae: 394.7869 - val_loss: 278769.0312 - val_mae: 408.5090\n",
      "Epoch 22/100\n",
      "200/200 [==============================] - 0s 2ms/step - loss: 259611.3125 - mae: 395.2496 - val_loss: 279202.3125 - val_mae: 411.5548\n",
      "Epoch 23/100\n",
      "200/200 [==============================] - 0s 2ms/step - loss: 259570.5156 - mae: 395.0179 - val_loss: 278709.8438 - val_mae: 404.1683\n",
      "Epoch 24/100\n",
      "200/200 [==============================] - 0s 2ms/step - loss: 259145.9844 - mae: 394.5360 - val_loss: 279026.5625 - val_mae: 402.3331\n",
      "Epoch 25/100\n",
      "200/200 [==============================] - 0s 1ms/step - loss: 259400.0156 - mae: 395.5754 - val_loss: 284465.5938 - val_mae: 394.6981\n",
      "Epoch 26/100\n",
      "200/200 [==============================] - 0s 1ms/step - loss: 259078.2500 - mae: 394.1134 - val_loss: 283160.3750 - val_mae: 395.5994\n",
      "Epoch 27/100\n",
      "200/200 [==============================] - 0s 950us/step - loss: 259268.6406 - mae: 393.8831 - val_loss: 278682.8125 - val_mae: 409.3644\n",
      "Epoch 28/100\n",
      "200/200 [==============================] - 0s 1ms/step - loss: 258409.5625 - mae: 393.7864 - val_loss: 279967.2812 - val_mae: 415.0251\n",
      "Epoch 29/100\n",
      "200/200 [==============================] - 0s 1ms/step - loss: 259427.5625 - mae: 394.9032 - val_loss: 278956.8750 - val_mae: 402.8356\n",
      "Epoch 30/100\n",
      "200/200 [==============================] - 0s 1ms/step - loss: 258570.8125 - mae: 393.7490 - val_loss: 285260.0000 - val_mae: 428.4348\n",
      "Epoch 31/100\n",
      "200/200 [==============================] - 0s 1ms/step - loss: 259302.0938 - mae: 396.1931 - val_loss: 282469.0625 - val_mae: 396.4597\n",
      "Epoch 32/100\n",
      "200/200 [==============================] - 0s 1ms/step - loss: 258259.2969 - mae: 393.7664 - val_loss: 280538.5938 - val_mae: 398.7127\n",
      "Epoch 33/100\n",
      "200/200 [==============================] - 0s 1ms/step - loss: 259251.6094 - mae: 394.2377 - val_loss: 278834.9688 - val_mae: 409.8631\n",
      "Epoch 34/100\n",
      "200/200 [==============================] - 0s 1ms/step - loss: 259069.6094 - mae: 394.8978 - val_loss: 278779.2188 - val_mae: 409.1656\n",
      "Epoch 35/100\n",
      "200/200 [==============================] - 0s 1ms/step - loss: 259417.0625 - mae: 394.1239 - val_loss: 282373.9375 - val_mae: 422.1254\n",
      "Epoch 36/100\n",
      "200/200 [==============================] - 0s 1ms/step - loss: 260497.5156 - mae: 396.9182 - val_loss: 281353.6250 - val_mae: 397.3881\n",
      "Epoch 37/100\n",
      "200/200 [==============================] - 0s 1ms/step - loss: 259630.9531 - mae: 394.2018 - val_loss: 280668.8438 - val_mae: 398.4319\n",
      "Epoch 38/100\n",
      "200/200 [==============================] - 0s 1ms/step - loss: 259088.7031 - mae: 394.3872 - val_loss: 281207.0938 - val_mae: 419.1031\n",
      "Epoch 39/100\n",
      "200/200 [==============================] - 0s 1ms/step - loss: 259397.9844 - mae: 395.3473 - val_loss: 278661.4375 - val_mae: 405.5416\n",
      "Epoch 40/100\n",
      "200/200 [==============================] - 0s 1ms/step - loss: 258493.6875 - mae: 393.9495 - val_loss: 282478.1875 - val_mae: 396.1936\n",
      "Epoch 41/100\n",
      "200/200 [==============================] - 0s 1ms/step - loss: 258950.2031 - mae: 393.3286 - val_loss: 278765.7500 - val_mae: 404.9224\n",
      "Epoch 42/100\n",
      "200/200 [==============================] - 0s 1ms/step - loss: 258735.3281 - mae: 394.2237 - val_loss: 281879.5000 - val_mae: 396.6331\n",
      "Epoch 43/100\n",
      "200/200 [==============================] - 0s 1ms/step - loss: 258635.8594 - mae: 394.4422 - val_loss: 285032.0000 - val_mae: 394.3386\n",
      "Epoch 44/100\n",
      "200/200 [==============================] - 0s 1ms/step - loss: 259402.7344 - mae: 394.0755 - val_loss: 278634.5312 - val_mae: 405.3680\n",
      "Epoch 45/100\n",
      "200/200 [==============================] - 0s 1ms/step - loss: 259136.0625 - mae: 394.0696 - val_loss: 281814.3125 - val_mae: 420.3259\n",
      "Epoch 46/100\n",
      "200/200 [==============================] - 0s 1ms/step - loss: 259923.5156 - mae: 395.3418 - val_loss: 278628.1250 - val_mae: 407.8390\n",
      "Epoch 47/100\n",
      "200/200 [==============================] - 0s 1ms/step - loss: 259761.1562 - mae: 395.2029 - val_loss: 279044.6250 - val_mae: 402.3802\n",
      "Epoch 48/100\n",
      "200/200 [==============================] - 0s 1ms/step - loss: 258935.8594 - mae: 394.4263 - val_loss: 278999.2812 - val_mae: 404.0254\n",
      "Epoch 49/100\n",
      "200/200 [==============================] - 0s 1ms/step - loss: 258398.7656 - mae: 393.4860 - val_loss: 278920.3438 - val_mae: 410.1999\n",
      "Epoch 50/100\n",
      "200/200 [==============================] - 0s 1ms/step - loss: 259690.4844 - mae: 394.7482 - val_loss: 280152.5312 - val_mae: 399.3221\n",
      "Epoch 51/100\n"
     ]
    },
    {
     "name": "stdout",
     "output_type": "stream",
     "text": [
      "200/200 [==============================] - 0s 1ms/step - loss: 258326.2500 - mae: 392.7509 - val_loss: 279222.9062 - val_mae: 412.0276\n",
      "Epoch 52/100\n",
      "200/200 [==============================] - 0s 1ms/step - loss: 258506.0938 - mae: 394.2285 - val_loss: 278933.4688 - val_mae: 410.9369\n",
      "Epoch 53/100\n",
      "200/200 [==============================] - 0s 1ms/step - loss: 258886.8281 - mae: 394.6012 - val_loss: 279714.8750 - val_mae: 400.5631\n",
      "Epoch 54/100\n",
      "200/200 [==============================] - 0s 1ms/step - loss: 258736.9062 - mae: 394.1453 - val_loss: 278873.9062 - val_mae: 403.6054\n",
      "Epoch 55/100\n",
      "200/200 [==============================] - 0s 891us/step - loss: 258616.0625 - mae: 394.3802 - val_loss: 280991.3438 - val_mae: 397.8279\n",
      "Epoch 56/100\n",
      "200/200 [==============================] - 0s 1ms/step - loss: 259374.6406 - mae: 394.0341 - val_loss: 280846.7500 - val_mae: 397.9259\n",
      "Epoch 57/100\n",
      "200/200 [==============================] - 0s 1ms/step - loss: 258649.9219 - mae: 393.4883 - val_loss: 279705.0625 - val_mae: 400.2498\n",
      "Epoch 58/100\n",
      "200/200 [==============================] - 0s 1ms/step - loss: 259059.7969 - mae: 394.0000 - val_loss: 278728.5312 - val_mae: 404.1017\n",
      "Epoch 59/100\n",
      "200/200 [==============================] - 0s 1ms/step - loss: 259108.2656 - mae: 394.1298 - val_loss: 279272.8750 - val_mae: 412.3242\n",
      "Epoch 60/100\n",
      "200/200 [==============================] - 0s 1ms/step - loss: 258702.3906 - mae: 393.7556 - val_loss: 279444.3750 - val_mae: 412.9136\n",
      "Epoch 61/100\n",
      "200/200 [==============================] - 0s 1ms/step - loss: 258810.5156 - mae: 394.8901 - val_loss: 281371.6562 - val_mae: 397.5714\n",
      "Epoch 62/100\n",
      "200/200 [==============================] - 0s 1ms/step - loss: 258936.7812 - mae: 393.6808 - val_loss: 279123.4375 - val_mae: 401.5251\n",
      "Epoch 63/100\n",
      "200/200 [==============================] - 0s 1ms/step - loss: 258787.8438 - mae: 394.4221 - val_loss: 283124.6250 - val_mae: 395.9797\n",
      "Epoch 64/100\n",
      "200/200 [==============================] - 0s 1ms/step - loss: 258554.2344 - mae: 393.6467 - val_loss: 278611.5625 - val_mae: 405.6594\n",
      "Epoch 65/100\n",
      "200/200 [==============================] - 0s 1ms/step - loss: 258906.4219 - mae: 394.2752 - val_loss: 278949.4688 - val_mae: 409.8988\n",
      "Epoch 66/100\n",
      "200/200 [==============================] - 0s 1ms/step - loss: 258452.1875 - mae: 393.7690 - val_loss: 279462.0625 - val_mae: 412.7466\n",
      "Epoch 67/100\n",
      "200/200 [==============================] - 0s 1ms/step - loss: 258813.9688 - mae: 394.8311 - val_loss: 278683.0625 - val_mae: 407.8370\n",
      "Epoch 68/100\n",
      "200/200 [==============================] - 0s 1ms/step - loss: 259431.5625 - mae: 393.5837 - val_loss: 278986.3750 - val_mae: 410.2899\n",
      "Epoch 69/100\n",
      "200/200 [==============================] - 0s 1ms/step - loss: 258696.5156 - mae: 394.3874 - val_loss: 278895.5312 - val_mae: 403.6275\n",
      "Epoch 70/100\n",
      "200/200 [==============================] - 0s 1ms/step - loss: 258191.6406 - mae: 393.8087 - val_loss: 278565.7500 - val_mae: 407.0827\n",
      "Epoch 71/100\n",
      "200/200 [==============================] - 0s 1ms/step - loss: 258405.6562 - mae: 394.3769 - val_loss: 278936.0938 - val_mae: 403.6061\n",
      "Epoch 72/100\n",
      "200/200 [==============================] - 0s 1ms/step - loss: 258588.0156 - mae: 394.4960 - val_loss: 283474.5000 - val_mae: 395.5139\n",
      "Epoch 73/100\n",
      "200/200 [==============================] - 0s 1ms/step - loss: 258437.4688 - mae: 393.8060 - val_loss: 278782.9375 - val_mae: 407.9068\n",
      "Epoch 74/100\n",
      "200/200 [==============================] - 0s 1ms/step - loss: 258766.8906 - mae: 395.2659 - val_loss: 282416.9375 - val_mae: 396.3781\n",
      "Epoch 75/100\n",
      "200/200 [==============================] - 0s 1ms/step - loss: 258250.2656 - mae: 392.9301 - val_loss: 279720.7812 - val_mae: 400.9881\n",
      "Epoch 76/100\n",
      "200/200 [==============================] - 0s 1ms/step - loss: 258285.4062 - mae: 393.4064 - val_loss: 279208.0312 - val_mae: 411.5075\n",
      "Epoch 77/100\n",
      "200/200 [==============================] - 0s 1ms/step - loss: 258611.8281 - mae: 394.4487 - val_loss: 282443.0000 - val_mae: 396.6902\n",
      "Epoch 78/100\n",
      "200/200 [==============================] - 0s 1ms/step - loss: 258620.0781 - mae: 393.3571 - val_loss: 278825.7500 - val_mae: 403.4568\n",
      "Epoch 79/100\n",
      "200/200 [==============================] - 0s 1ms/step - loss: 258846.7969 - mae: 394.5188 - val_loss: 279371.1250 - val_mae: 401.2448\n",
      "Epoch 80/100\n",
      "200/200 [==============================] - 0s 1ms/step - loss: 258257.2656 - mae: 394.4779 - val_loss: 279361.5625 - val_mae: 401.7225\n",
      "Epoch 81/100\n",
      "200/200 [==============================] - 0s 1ms/step - loss: 258242.5469 - mae: 394.3264 - val_loss: 280176.0625 - val_mae: 399.4613\n",
      "Epoch 82/100\n",
      "200/200 [==============================] - 0s 1ms/step - loss: 258602.5000 - mae: 393.8343 - val_loss: 279378.6875 - val_mae: 401.4301\n",
      "Epoch 83/100\n",
      "200/200 [==============================] - 0s 1ms/step - loss: 258394.5312 - mae: 393.7721 - val_loss: 280104.3438 - val_mae: 399.6433\n",
      "Epoch 84/100\n",
      "200/200 [==============================] - 0s 1ms/step - loss: 258945.2500 - mae: 393.8356 - val_loss: 278600.3438 - val_mae: 406.5284\n",
      "Epoch 85/100\n",
      "200/200 [==============================] - 0s 1ms/step - loss: 258795.2812 - mae: 395.5479 - val_loss: 281575.7812 - val_mae: 397.5696\n",
      "Epoch 86/100\n",
      "200/200 [==============================] - 0s 1ms/step - loss: 258614.1719 - mae: 394.0634 - val_loss: 279037.9688 - val_mae: 410.2612\n",
      "Epoch 87/100\n",
      "200/200 [==============================] - 0s 1ms/step - loss: 258224.8750 - mae: 393.6818 - val_loss: 280233.3438 - val_mae: 415.7946\n",
      "Epoch 88/100\n",
      "200/200 [==============================] - 0s 1ms/step - loss: 258281.0312 - mae: 394.1227 - val_loss: 279863.0938 - val_mae: 414.5703\n",
      "Epoch 89/100\n",
      "200/200 [==============================] - 0s 1ms/step - loss: 259234.4219 - mae: 395.3147 - val_loss: 279257.1250 - val_mae: 401.1801\n",
      "Epoch 90/100\n",
      "200/200 [==============================] - 0s 1ms/step - loss: 258272.4062 - mae: 393.4798 - val_loss: 278708.9375 - val_mae: 407.4990\n",
      "Epoch 91/100\n",
      "200/200 [==============================] - 0s 1ms/step - loss: 258329.1406 - mae: 393.7708 - val_loss: 278831.0625 - val_mae: 405.5630\n",
      "Epoch 92/100\n",
      "200/200 [==============================] - 0s 1ms/step - loss: 258326.7500 - mae: 394.0317 - val_loss: 283563.3750 - val_mae: 395.8016\n",
      "Epoch 93/100\n",
      "200/200 [==============================] - 0s 1ms/step - loss: 258648.5312 - mae: 394.5033 - val_loss: 279217.2500 - val_mae: 402.2636\n",
      "Epoch 94/100\n",
      "200/200 [==============================] - 0s 1ms/step - loss: 259511.4531 - mae: 394.9068 - val_loss: 283597.1250 - val_mae: 395.7970\n",
      "Epoch 95/100\n",
      "200/200 [==============================] - 0s 1ms/step - loss: 259174.9219 - mae: 393.4012 - val_loss: 279244.2188 - val_mae: 410.9919\n",
      "Epoch 96/100\n",
      "200/200 [==============================] - 0s 1ms/step - loss: 258272.7969 - mae: 394.7429 - val_loss: 284782.7812 - val_mae: 394.7992\n",
      "Epoch 97/100\n",
      "200/200 [==============================] - 0s 1ms/step - loss: 258427.9844 - mae: 393.6889 - val_loss: 278890.5938 - val_mae: 404.1563\n",
      "Epoch 98/100\n",
      "200/200 [==============================] - 0s 1ms/step - loss: 258606.3125 - mae: 394.5660 - val_loss: 279269.2500 - val_mae: 401.9873\n",
      "Epoch 99/100\n",
      "200/200 [==============================] - 0s 1ms/step - loss: 258971.5938 - mae: 393.5481 - val_loss: 278786.6562 - val_mae: 405.2312\n",
      "Epoch 100/100\n",
      "200/200 [==============================] - 0s 1ms/step - loss: 259025.3281 - mae: 394.4415 - val_loss: 278952.9688 - val_mae: 403.4773\n"
     ]
    }
   ],
   "source": [
    "#det_coeff\n",
    "\n",
    "# Set random seed\n",
    "tf.random.set_seed(42)\n",
    "\n",
    "# Add an extra layer and increase number of units\n",
    "insurance_model_3 = tf.keras.Sequential([\n",
    "  tf.keras.layers.Dense(16), # 100 units\n",
    "  tf.keras.layers.Dense(1) # 1 unit (important for output layer)\n",
    "])\n",
    "\n",
    "# Compile the model\n",
    "insurance_model_3.compile(loss=tf.keras.losses.mse,\n",
    "                          optimizer=tf.keras.optimizers.Adam(lr = 0.005), # Adam works but SGD doesn't \n",
    "                          metrics=['mae'])\n",
    "\n",
    "# Fit the model and save the history (we can plot this)\n",
    "history = insurance_model_3.fit(X_train, y_train, epochs= 100 , validation_data= ( X_test,y_test))"
   ]
  },
  {
   "cell_type": "code",
   "execution_count": 269,
   "id": "d93a5310",
   "metadata": {},
   "outputs": [],
   "source": [
    "y_train_pred = insurance_model_3.predict(X_train_std)\n",
    "y_test_pred = insurance_model_3.predict(X_test_std)"
   ]
  },
  {
   "cell_type": "code",
   "execution_count": 270,
   "id": "0b8afcbe",
   "metadata": {},
   "outputs": [
    {
     "data": {
      "text/plain": [
       "(434.17203744142734, 445.60191585698817)"
      ]
     },
     "execution_count": 270,
     "metadata": {},
     "output_type": "execute_result"
    }
   ],
   "source": [
    "mean_absolute_error(y_train,y_train_pred) , mean_absolute_error(y_test,y_test_pred)"
   ]
  },
  {
   "cell_type": "code",
   "execution_count": 271,
   "id": "e8592168",
   "metadata": {},
   "outputs": [
    {
     "data": {
      "text/plain": [
       "(-0.487215568300049, -0.47597530112833053)"
      ]
     },
     "execution_count": 271,
     "metadata": {},
     "output_type": "execute_result"
    }
   ],
   "source": [
    "r2_score(y_train,y_train_pred) , r2_score(y_test,y_test_pred)"
   ]
  },
  {
   "cell_type": "code",
   "execution_count": null,
   "id": "021bdff1",
   "metadata": {},
   "outputs": [],
   "source": []
  }
 ],
 "metadata": {
  "kernelspec": {
   "display_name": "Python 3",
   "language": "python",
   "name": "python3"
  },
  "language_info": {
   "codemirror_mode": {
    "name": "ipython",
    "version": 3
   },
   "file_extension": ".py",
   "mimetype": "text/x-python",
   "name": "python",
   "nbconvert_exporter": "python",
   "pygments_lexer": "ipython3",
   "version": "3.8.8"
  }
 },
 "nbformat": 4,
 "nbformat_minor": 5
}
