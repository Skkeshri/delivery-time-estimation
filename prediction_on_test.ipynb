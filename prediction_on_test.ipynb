{
 "cells": [
  {
   "cell_type": "code",
   "execution_count": 1,
   "id": "98781fc2",
   "metadata": {},
   "outputs": [],
   "source": [
    "import pandas as pd\n",
    "import seaborn as sns\n",
    "import numpy as np\n",
    "import matplotlib.pyplot as plt"
   ]
  },
  {
   "cell_type": "code",
   "execution_count": 49,
   "id": "2490dab0",
   "metadata": {},
   "outputs": [],
   "source": [
    "# # train_main.csv - the training set\n",
    "# # train_geo.csv - supplemental information about geographical data for the training set\n",
    "# # train_weather.csv - supplemental information about weather data for the training set\n",
    "# # holidays.csv - supplemental information about the holidays in the city\n",
    "\n",
    "\n",
    "# train_main = pd.read_csv('train_main.csv')\n",
    "# train_geo = pd.read_csv('train_geo.csv')\n",
    "# train_weather = pd.read_csv('train_weather.csv')\n",
    "# holidays = pd.read_csv('holidays.csv')"
   ]
  },
  {
   "cell_type": "code",
   "execution_count": 2,
   "id": "b1db77d9",
   "metadata": {},
   "outputs": [],
   "source": [
    "test_main = pd.read_csv('test_main.csv')\n",
    "test_geo = pd.read_csv('test_geo.csv')\n",
    "test_weather = pd.read_csv('test_weather.csv')\n",
    "holidays = pd.read_csv('holidays.csv')"
   ]
  },
  {
   "cell_type": "code",
   "execution_count": 3,
   "id": "d83e46ef",
   "metadata": {},
   "outputs": [
    {
     "data": {
      "text/plain": [
       "(8496, 4)"
      ]
     },
     "execution_count": 3,
     "metadata": {},
     "output_type": "execute_result"
    }
   ],
   "source": [
    "test_main.shape"
   ]
  },
  {
   "cell_type": "code",
   "execution_count": 4,
   "id": "ea560e4a",
   "metadata": {},
   "outputs": [
    {
     "data": {
      "text/html": [
       "<div>\n",
       "<style scoped>\n",
       "    .dataframe tbody tr th:only-of-type {\n",
       "        vertical-align: middle;\n",
       "    }\n",
       "\n",
       "    .dataframe tbody tr th {\n",
       "        vertical-align: top;\n",
       "    }\n",
       "\n",
       "    .dataframe thead th {\n",
       "        text-align: right;\n",
       "    }\n",
       "</style>\n",
       "<table border=\"1\" class=\"dataframe\">\n",
       "  <thead>\n",
       "    <tr style=\"text-align: right;\">\n",
       "      <th></th>\n",
       "      <th>id</th>\n",
       "      <th>starting_time</th>\n",
       "      <th>model_van</th>\n",
       "      <th>num_packages</th>\n",
       "    </tr>\n",
       "  </thead>\n",
       "  <tbody>\n",
       "    <tr>\n",
       "      <th>0</th>\n",
       "      <td>8495</td>\n",
       "      <td>2016/05/18 23:53:00</td>\n",
       "      <td>model_B</td>\n",
       "      <td>1</td>\n",
       "    </tr>\n",
       "    <tr>\n",
       "      <th>1</th>\n",
       "      <td>8496</td>\n",
       "      <td>2016/02/29 03:54:00</td>\n",
       "      <td>model_B</td>\n",
       "      <td>1</td>\n",
       "    </tr>\n",
       "    <tr>\n",
       "      <th>2</th>\n",
       "      <td>8497</td>\n",
       "      <td>2016/04/06 09:52:00</td>\n",
       "      <td>model_B</td>\n",
       "      <td>1</td>\n",
       "    </tr>\n",
       "    <tr>\n",
       "      <th>3</th>\n",
       "      <td>8498</td>\n",
       "      <td>2016/04/12 06:52:00</td>\n",
       "      <td>model_B</td>\n",
       "      <td>2</td>\n",
       "    </tr>\n",
       "    <tr>\n",
       "      <th>4</th>\n",
       "      <td>8499</td>\n",
       "      <td>2016/06/11 11:56:00</td>\n",
       "      <td>model_B</td>\n",
       "      <td>1</td>\n",
       "    </tr>\n",
       "  </tbody>\n",
       "</table>\n",
       "</div>"
      ],
      "text/plain": [
       "     id        starting_time model_van  num_packages\n",
       "0  8495  2016/05/18 23:53:00   model_B             1\n",
       "1  8496  2016/02/29 03:54:00   model_B             1\n",
       "2  8497  2016/04/06 09:52:00   model_B             1\n",
       "3  8498  2016/04/12 06:52:00   model_B             2\n",
       "4  8499  2016/06/11 11:56:00   model_B             1"
      ]
     },
     "execution_count": 4,
     "metadata": {},
     "output_type": "execute_result"
    }
   ],
   "source": [
    "test_main.head()"
   ]
  },
  {
   "cell_type": "code",
   "execution_count": 5,
   "id": "4cbd7279",
   "metadata": {},
   "outputs": [
    {
     "data": {
      "text/html": [
       "<div>\n",
       "<style scoped>\n",
       "    .dataframe tbody tr th:only-of-type {\n",
       "        vertical-align: middle;\n",
       "    }\n",
       "\n",
       "    .dataframe tbody tr th {\n",
       "        vertical-align: top;\n",
       "    }\n",
       "\n",
       "    .dataframe thead th {\n",
       "        text-align: right;\n",
       "    }\n",
       "</style>\n",
       "<table border=\"1\" class=\"dataframe\">\n",
       "  <thead>\n",
       "    <tr style=\"text-align: right;\">\n",
       "      <th></th>\n",
       "      <th>id</th>\n",
       "      <th>town</th>\n",
       "      <th>start_Longitude</th>\n",
       "      <th>start_Latitude</th>\n",
       "      <th>end_Longitude</th>\n",
       "      <th>end_Latitude</th>\n",
       "    </tr>\n",
       "  </thead>\n",
       "  <tbody>\n",
       "    <tr>\n",
       "      <th>0</th>\n",
       "      <td>12444</td>\n",
       "      <td>Hawkins</td>\n",
       "      <td>-73.988533</td>\n",
       "      <td>40.718079</td>\n",
       "      <td>-73.981163</td>\n",
       "      <td>40.714291</td>\n",
       "    </tr>\n",
       "    <tr>\n",
       "      <th>1</th>\n",
       "      <td>12696</td>\n",
       "      <td>Hawkins</td>\n",
       "      <td>-73.994492</td>\n",
       "      <td>40.746063</td>\n",
       "      <td>-74.000748</td>\n",
       "      <td>40.728912</td>\n",
       "    </tr>\n",
       "    <tr>\n",
       "      <th>2</th>\n",
       "      <td>15338</td>\n",
       "      <td>Hawkins</td>\n",
       "      <td>-73.983192</td>\n",
       "      <td>40.734978</td>\n",
       "      <td>-73.983742</td>\n",
       "      <td>40.721352</td>\n",
       "    </tr>\n",
       "    <tr>\n",
       "      <th>3</th>\n",
       "      <td>10327</td>\n",
       "      <td>Hawkins</td>\n",
       "      <td>-73.983215</td>\n",
       "      <td>40.756275</td>\n",
       "      <td>-73.973015</td>\n",
       "      <td>40.780201</td>\n",
       "    </tr>\n",
       "    <tr>\n",
       "      <th>4</th>\n",
       "      <td>15188</td>\n",
       "      <td>Hawkins</td>\n",
       "      <td>-73.959343</td>\n",
       "      <td>40.777290</td>\n",
       "      <td>-73.966911</td>\n",
       "      <td>40.761131</td>\n",
       "    </tr>\n",
       "    <tr>\n",
       "      <th>...</th>\n",
       "      <td>...</td>\n",
       "      <td>...</td>\n",
       "      <td>...</td>\n",
       "      <td>...</td>\n",
       "      <td>...</td>\n",
       "      <td>...</td>\n",
       "    </tr>\n",
       "    <tr>\n",
       "      <th>8491</th>\n",
       "      <td>13834</td>\n",
       "      <td>Hawkins</td>\n",
       "      <td>-73.977310</td>\n",
       "      <td>40.789562</td>\n",
       "      <td>-73.951462</td>\n",
       "      <td>40.790752</td>\n",
       "    </tr>\n",
       "    <tr>\n",
       "      <th>8492</th>\n",
       "      <td>10596</td>\n",
       "      <td>Hawkins</td>\n",
       "      <td>-74.003838</td>\n",
       "      <td>40.744358</td>\n",
       "      <td>-73.995674</td>\n",
       "      <td>40.745018</td>\n",
       "    </tr>\n",
       "    <tr>\n",
       "      <th>8493</th>\n",
       "      <td>11053</td>\n",
       "      <td>Hawkins</td>\n",
       "      <td>-74.002754</td>\n",
       "      <td>40.714245</td>\n",
       "      <td>-74.000114</td>\n",
       "      <td>40.717838</td>\n",
       "    </tr>\n",
       "    <tr>\n",
       "      <th>8494</th>\n",
       "      <td>16019</td>\n",
       "      <td>Hawkins</td>\n",
       "      <td>-73.969330</td>\n",
       "      <td>40.763802</td>\n",
       "      <td>-73.958298</td>\n",
       "      <td>40.775570</td>\n",
       "    </tr>\n",
       "    <tr>\n",
       "      <th>8495</th>\n",
       "      <td>10947</td>\n",
       "      <td>Hawkins</td>\n",
       "      <td>-73.987968</td>\n",
       "      <td>40.743885</td>\n",
       "      <td>-73.977089</td>\n",
       "      <td>40.762115</td>\n",
       "    </tr>\n",
       "  </tbody>\n",
       "</table>\n",
       "<p>8496 rows × 6 columns</p>\n",
       "</div>"
      ],
      "text/plain": [
       "         id     town  start_Longitude  start_Latitude  end_Longitude  \\\n",
       "0     12444  Hawkins       -73.988533       40.718079     -73.981163   \n",
       "1     12696  Hawkins       -73.994492       40.746063     -74.000748   \n",
       "2     15338  Hawkins       -73.983192       40.734978     -73.983742   \n",
       "3     10327  Hawkins       -73.983215       40.756275     -73.973015   \n",
       "4     15188  Hawkins       -73.959343       40.777290     -73.966911   \n",
       "...     ...      ...              ...             ...            ...   \n",
       "8491  13834  Hawkins       -73.977310       40.789562     -73.951462   \n",
       "8492  10596  Hawkins       -74.003838       40.744358     -73.995674   \n",
       "8493  11053  Hawkins       -74.002754       40.714245     -74.000114   \n",
       "8494  16019  Hawkins       -73.969330       40.763802     -73.958298   \n",
       "8495  10947  Hawkins       -73.987968       40.743885     -73.977089   \n",
       "\n",
       "      end_Latitude  \n",
       "0        40.714291  \n",
       "1        40.728912  \n",
       "2        40.721352  \n",
       "3        40.780201  \n",
       "4        40.761131  \n",
       "...            ...  \n",
       "8491     40.790752  \n",
       "8492     40.745018  \n",
       "8493     40.717838  \n",
       "8494     40.775570  \n",
       "8495     40.762115  \n",
       "\n",
       "[8496 rows x 6 columns]"
      ]
     },
     "execution_count": 5,
     "metadata": {},
     "output_type": "execute_result"
    }
   ],
   "source": [
    "test_geo"
   ]
  },
  {
   "cell_type": "code",
   "execution_count": 6,
   "id": "38bee689",
   "metadata": {},
   "outputs": [
    {
     "data": {
      "text/html": [
       "<div>\n",
       "<style scoped>\n",
       "    .dataframe tbody tr th:only-of-type {\n",
       "        vertical-align: middle;\n",
       "    }\n",
       "\n",
       "    .dataframe tbody tr th {\n",
       "        vertical-align: top;\n",
       "    }\n",
       "\n",
       "    .dataframe thead th {\n",
       "        text-align: right;\n",
       "    }\n",
       "</style>\n",
       "<table border=\"1\" class=\"dataframe\">\n",
       "  <thead>\n",
       "    <tr style=\"text-align: right;\">\n",
       "      <th></th>\n",
       "      <th>id</th>\n",
       "      <th>wea_conditions</th>\n",
       "      <th>wea_temp</th>\n",
       "      <th>wea_dptemp</th>\n",
       "      <th>wea_humidity</th>\n",
       "      <th>wea_windspeed</th>\n",
       "      <th>wea_winddir</th>\n",
       "      <th>wea_visibility</th>\n",
       "      <th>wea_pressure</th>\n",
       "      <th>wea_precipitation</th>\n",
       "      <th>wea_fog</th>\n",
       "      <th>wea_rain</th>\n",
       "      <th>wea_snow</th>\n",
       "    </tr>\n",
       "  </thead>\n",
       "  <tbody>\n",
       "    <tr>\n",
       "      <th>0</th>\n",
       "      <td>9555</td>\n",
       "      <td>Clear</td>\n",
       "      <td>3.9</td>\n",
       "      <td>-7.8</td>\n",
       "      <td>43.0</td>\n",
       "      <td>7.4</td>\n",
       "      <td>0</td>\n",
       "      <td>16.1</td>\n",
       "      <td>30.0</td>\n",
       "      <td>NaN</td>\n",
       "      <td>No</td>\n",
       "      <td>No</td>\n",
       "      <td>No</td>\n",
       "    </tr>\n",
       "    <tr>\n",
       "      <th>1</th>\n",
       "      <td>9194</td>\n",
       "      <td>Overcast</td>\n",
       "      <td>13.9</td>\n",
       "      <td>8.9</td>\n",
       "      <td>72.0</td>\n",
       "      <td>0.0</td>\n",
       "      <td>0</td>\n",
       "      <td>11.3</td>\n",
       "      <td>29.9</td>\n",
       "      <td>NaN</td>\n",
       "      <td>No</td>\n",
       "      <td>No</td>\n",
       "      <td>No</td>\n",
       "    </tr>\n",
       "    <tr>\n",
       "      <th>2</th>\n",
       "      <td>9369</td>\n",
       "      <td>Light_Rain</td>\n",
       "      <td>15.0</td>\n",
       "      <td>7.2</td>\n",
       "      <td>60.0</td>\n",
       "      <td>5.6</td>\n",
       "      <td>0</td>\n",
       "      <td>12.9</td>\n",
       "      <td>30.0</td>\n",
       "      <td>0.0</td>\n",
       "      <td>No</td>\n",
       "      <td>Y</td>\n",
       "      <td>No</td>\n",
       "    </tr>\n",
       "    <tr>\n",
       "      <th>3</th>\n",
       "      <td>15665</td>\n",
       "      <td>Light_Snow</td>\n",
       "      <td>-4.4</td>\n",
       "      <td>-8.3</td>\n",
       "      <td>75.0</td>\n",
       "      <td>9.3</td>\n",
       "      <td>0</td>\n",
       "      <td>3.2</td>\n",
       "      <td>30.4</td>\n",
       "      <td>0.0</td>\n",
       "      <td>No</td>\n",
       "      <td>No</td>\n",
       "      <td>Y</td>\n",
       "    </tr>\n",
       "    <tr>\n",
       "      <th>4</th>\n",
       "      <td>9352</td>\n",
       "      <td>Clear</td>\n",
       "      <td>7.2</td>\n",
       "      <td>-13.3</td>\n",
       "      <td>22.0</td>\n",
       "      <td>0.0</td>\n",
       "      <td>0</td>\n",
       "      <td>16.1</td>\n",
       "      <td>30.0</td>\n",
       "      <td>NaN</td>\n",
       "      <td>No</td>\n",
       "      <td>No</td>\n",
       "      <td>No</td>\n",
       "    </tr>\n",
       "    <tr>\n",
       "      <th>...</th>\n",
       "      <td>...</td>\n",
       "      <td>...</td>\n",
       "      <td>...</td>\n",
       "      <td>...</td>\n",
       "      <td>...</td>\n",
       "      <td>...</td>\n",
       "      <td>...</td>\n",
       "      <td>...</td>\n",
       "      <td>...</td>\n",
       "      <td>...</td>\n",
       "      <td>...</td>\n",
       "      <td>...</td>\n",
       "      <td>...</td>\n",
       "    </tr>\n",
       "    <tr>\n",
       "      <th>8491</th>\n",
       "      <td>10770</td>\n",
       "      <td>Clear</td>\n",
       "      <td>6.1</td>\n",
       "      <td>-12.2</td>\n",
       "      <td>26.0</td>\n",
       "      <td>14.8</td>\n",
       "      <td>310</td>\n",
       "      <td>16.1</td>\n",
       "      <td>30.2</td>\n",
       "      <td>NaN</td>\n",
       "      <td>No</td>\n",
       "      <td>No</td>\n",
       "      <td>No</td>\n",
       "    </tr>\n",
       "    <tr>\n",
       "      <th>8492</th>\n",
       "      <td>15213</td>\n",
       "      <td>Clear</td>\n",
       "      <td>-7.8</td>\n",
       "      <td>-17.2</td>\n",
       "      <td>48.0</td>\n",
       "      <td>18.5</td>\n",
       "      <td>290</td>\n",
       "      <td>16.1</td>\n",
       "      <td>30.0</td>\n",
       "      <td>NaN</td>\n",
       "      <td>No</td>\n",
       "      <td>No</td>\n",
       "      <td>No</td>\n",
       "    </tr>\n",
       "    <tr>\n",
       "      <th>8493</th>\n",
       "      <td>15158</td>\n",
       "      <td>Light_Rain</td>\n",
       "      <td>19.4</td>\n",
       "      <td>18.3</td>\n",
       "      <td>93.0</td>\n",
       "      <td>9.3</td>\n",
       "      <td>0</td>\n",
       "      <td>4.8</td>\n",
       "      <td>29.9</td>\n",
       "      <td>6.1</td>\n",
       "      <td>No</td>\n",
       "      <td>Y</td>\n",
       "      <td>No</td>\n",
       "    </tr>\n",
       "    <tr>\n",
       "      <th>8494</th>\n",
       "      <td>14365</td>\n",
       "      <td>Clear</td>\n",
       "      <td>17.8</td>\n",
       "      <td>9.4</td>\n",
       "      <td>58.0</td>\n",
       "      <td>7.4</td>\n",
       "      <td>0</td>\n",
       "      <td>16.1</td>\n",
       "      <td>29.8</td>\n",
       "      <td>NaN</td>\n",
       "      <td>No</td>\n",
       "      <td>No</td>\n",
       "      <td>No</td>\n",
       "    </tr>\n",
       "    <tr>\n",
       "      <th>8495</th>\n",
       "      <td>14764</td>\n",
       "      <td>Clear</td>\n",
       "      <td>25.6</td>\n",
       "      <td>14.4</td>\n",
       "      <td>50.0</td>\n",
       "      <td>11.1</td>\n",
       "      <td>230</td>\n",
       "      <td>16.1</td>\n",
       "      <td>29.6</td>\n",
       "      <td>NaN</td>\n",
       "      <td>No</td>\n",
       "      <td>No</td>\n",
       "      <td>No</td>\n",
       "    </tr>\n",
       "  </tbody>\n",
       "</table>\n",
       "<p>8496 rows × 13 columns</p>\n",
       "</div>"
      ],
      "text/plain": [
       "         id wea_conditions  wea_temp  wea_dptemp  wea_humidity  wea_windspeed  \\\n",
       "0      9555          Clear       3.9        -7.8          43.0            7.4   \n",
       "1      9194       Overcast      13.9         8.9          72.0            0.0   \n",
       "2      9369     Light_Rain      15.0         7.2          60.0            5.6   \n",
       "3     15665     Light_Snow      -4.4        -8.3          75.0            9.3   \n",
       "4      9352          Clear       7.2       -13.3          22.0            0.0   \n",
       "...     ...            ...       ...         ...           ...            ...   \n",
       "8491  10770          Clear       6.1       -12.2          26.0           14.8   \n",
       "8492  15213          Clear      -7.8       -17.2          48.0           18.5   \n",
       "8493  15158     Light_Rain      19.4        18.3          93.0            9.3   \n",
       "8494  14365          Clear      17.8         9.4          58.0            7.4   \n",
       "8495  14764          Clear      25.6        14.4          50.0           11.1   \n",
       "\n",
       "      wea_winddir  wea_visibility  wea_pressure  wea_precipitation wea_fog  \\\n",
       "0               0            16.1          30.0                NaN      No   \n",
       "1               0            11.3          29.9                NaN      No   \n",
       "2               0            12.9          30.0                0.0      No   \n",
       "3               0             3.2          30.4                0.0      No   \n",
       "4               0            16.1          30.0                NaN      No   \n",
       "...           ...             ...           ...                ...     ...   \n",
       "8491          310            16.1          30.2                NaN      No   \n",
       "8492          290            16.1          30.0                NaN      No   \n",
       "8493            0             4.8          29.9                6.1      No   \n",
       "8494            0            16.1          29.8                NaN      No   \n",
       "8495          230            16.1          29.6                NaN      No   \n",
       "\n",
       "     wea_rain wea_snow  \n",
       "0          No       No  \n",
       "1          No       No  \n",
       "2           Y       No  \n",
       "3          No        Y  \n",
       "4          No       No  \n",
       "...       ...      ...  \n",
       "8491       No       No  \n",
       "8492       No       No  \n",
       "8493        Y       No  \n",
       "8494       No       No  \n",
       "8495       No       No  \n",
       "\n",
       "[8496 rows x 13 columns]"
      ]
     },
     "execution_count": 6,
     "metadata": {},
     "output_type": "execute_result"
    }
   ],
   "source": [
    "test_weather"
   ]
  },
  {
   "cell_type": "code",
   "execution_count": 7,
   "id": "1602a1e6",
   "metadata": {},
   "outputs": [
    {
     "data": {
      "text/html": [
       "<div>\n",
       "<style scoped>\n",
       "    .dataframe tbody tr th:only-of-type {\n",
       "        vertical-align: middle;\n",
       "    }\n",
       "\n",
       "    .dataframe tbody tr th {\n",
       "        vertical-align: top;\n",
       "    }\n",
       "\n",
       "    .dataframe thead th {\n",
       "        text-align: right;\n",
       "    }\n",
       "</style>\n",
       "<table border=\"1\" class=\"dataframe\">\n",
       "  <thead>\n",
       "    <tr style=\"text-align: right;\">\n",
       "      <th></th>\n",
       "      <th>date</th>\n",
       "      <th>holiday</th>\n",
       "    </tr>\n",
       "  </thead>\n",
       "  <tbody>\n",
       "    <tr>\n",
       "      <th>0</th>\n",
       "      <td>2016-01-01</td>\n",
       "      <td>Y</td>\n",
       "    </tr>\n",
       "    <tr>\n",
       "      <th>1</th>\n",
       "      <td>2016-01-18</td>\n",
       "      <td>Y</td>\n",
       "    </tr>\n",
       "    <tr>\n",
       "      <th>2</th>\n",
       "      <td>2016-02-12</td>\n",
       "      <td>Y</td>\n",
       "    </tr>\n",
       "    <tr>\n",
       "      <th>3</th>\n",
       "      <td>2016-02-15</td>\n",
       "      <td>Y</td>\n",
       "    </tr>\n",
       "    <tr>\n",
       "      <th>4</th>\n",
       "      <td>2016-05-08</td>\n",
       "      <td>Y</td>\n",
       "    </tr>\n",
       "    <tr>\n",
       "      <th>5</th>\n",
       "      <td>2016-05-30</td>\n",
       "      <td>Y</td>\n",
       "    </tr>\n",
       "    <tr>\n",
       "      <th>6</th>\n",
       "      <td>2016-06-19</td>\n",
       "      <td>Y</td>\n",
       "    </tr>\n",
       "    <tr>\n",
       "      <th>7</th>\n",
       "      <td>2016-07-04</td>\n",
       "      <td>Y</td>\n",
       "    </tr>\n",
       "    <tr>\n",
       "      <th>8</th>\n",
       "      <td>2016-09-05</td>\n",
       "      <td>Y</td>\n",
       "    </tr>\n",
       "    <tr>\n",
       "      <th>9</th>\n",
       "      <td>2016-10-10</td>\n",
       "      <td>Y</td>\n",
       "    </tr>\n",
       "    <tr>\n",
       "      <th>10</th>\n",
       "      <td>2016-11-11</td>\n",
       "      <td>Y</td>\n",
       "    </tr>\n",
       "    <tr>\n",
       "      <th>11</th>\n",
       "      <td>2016-11-24</td>\n",
       "      <td>Y</td>\n",
       "    </tr>\n",
       "    <tr>\n",
       "      <th>12</th>\n",
       "      <td>2016-12-26</td>\n",
       "      <td>Y</td>\n",
       "    </tr>\n",
       "  </tbody>\n",
       "</table>\n",
       "</div>"
      ],
      "text/plain": [
       "          date holiday\n",
       "0   2016-01-01       Y\n",
       "1   2016-01-18       Y\n",
       "2   2016-02-12       Y\n",
       "3   2016-02-15       Y\n",
       "4   2016-05-08       Y\n",
       "5   2016-05-30       Y\n",
       "6   2016-06-19       Y\n",
       "7   2016-07-04       Y\n",
       "8   2016-09-05       Y\n",
       "9   2016-10-10       Y\n",
       "10  2016-11-11       Y\n",
       "11  2016-11-24       Y\n",
       "12  2016-12-26       Y"
      ]
     },
     "execution_count": 7,
     "metadata": {},
     "output_type": "execute_result"
    }
   ],
   "source": [
    "holidays"
   ]
  },
  {
   "cell_type": "code",
   "execution_count": 8,
   "id": "7effd073",
   "metadata": {},
   "outputs": [
    {
     "data": {
      "text/plain": [
       "8496"
      ]
     },
     "execution_count": 8,
     "metadata": {},
     "output_type": "execute_result"
    }
   ],
   "source": [
    "test_main.id.nunique()"
   ]
  },
  {
   "cell_type": "code",
   "execution_count": 9,
   "id": "59b40a14",
   "metadata": {},
   "outputs": [
    {
     "data": {
      "text/plain": [
       "8496"
      ]
     },
     "execution_count": 9,
     "metadata": {},
     "output_type": "execute_result"
    }
   ],
   "source": [
    "test_geo.id.nunique()"
   ]
  },
  {
   "cell_type": "code",
   "execution_count": 10,
   "id": "dd350eac",
   "metadata": {},
   "outputs": [
    {
     "data": {
      "text/plain": [
       "8496"
      ]
     },
     "execution_count": 10,
     "metadata": {},
     "output_type": "execute_result"
    }
   ],
   "source": [
    "test_weather.id.nunique()"
   ]
  },
  {
   "cell_type": "code",
   "execution_count": 11,
   "id": "32e199b6",
   "metadata": {},
   "outputs": [],
   "source": [
    "test_geo = test_geo.drop_duplicates('id')\n",
    "test_weather = test_weather.drop_duplicates('id')"
   ]
  },
  {
   "cell_type": "code",
   "execution_count": 12,
   "id": "9281733b",
   "metadata": {},
   "outputs": [],
   "source": [
    "# train_geo with train_weather\n",
    "df_merged = pd.merge(test_geo,\n",
    "                      test_weather,\n",
    "                      left_on = [\"id\"],\n",
    "                      right_on = [\"id\"],\n",
    "                      how=\"inner\")"
   ]
  },
  {
   "cell_type": "code",
   "execution_count": 13,
   "id": "a710df87",
   "metadata": {},
   "outputs": [
    {
     "data": {
      "text/plain": [
       "(8496, 18)"
      ]
     },
     "execution_count": 13,
     "metadata": {},
     "output_type": "execute_result"
    }
   ],
   "source": [
    "df_merged.shape"
   ]
  },
  {
   "cell_type": "code",
   "execution_count": 14,
   "id": "93b66a6d",
   "metadata": {},
   "outputs": [],
   "source": [
    "# df_merged with train_main\n",
    "df = pd.merge(test_main,\n",
    "              df_merged,\n",
    "              left_on = [\"id\"],\n",
    "              right_on = [\"id\"],\n",
    "              how=\"inner\")"
   ]
  },
  {
   "cell_type": "code",
   "execution_count": 15,
   "id": "56d29de3",
   "metadata": {},
   "outputs": [
    {
     "data": {
      "text/plain": [
       "(8496, 21)"
      ]
     },
     "execution_count": 15,
     "metadata": {},
     "output_type": "execute_result"
    }
   ],
   "source": [
    "df.shape"
   ]
  },
  {
   "cell_type": "code",
   "execution_count": 16,
   "id": "2cbfedf8",
   "metadata": {},
   "outputs": [
    {
     "data": {
      "text/html": [
       "<div>\n",
       "<style scoped>\n",
       "    .dataframe tbody tr th:only-of-type {\n",
       "        vertical-align: middle;\n",
       "    }\n",
       "\n",
       "    .dataframe tbody tr th {\n",
       "        vertical-align: top;\n",
       "    }\n",
       "\n",
       "    .dataframe thead th {\n",
       "        text-align: right;\n",
       "    }\n",
       "</style>\n",
       "<table border=\"1\" class=\"dataframe\">\n",
       "  <thead>\n",
       "    <tr style=\"text-align: right;\">\n",
       "      <th></th>\n",
       "      <th>id</th>\n",
       "      <th>starting_time</th>\n",
       "      <th>model_van</th>\n",
       "      <th>num_packages</th>\n",
       "      <th>town</th>\n",
       "      <th>start_Longitude</th>\n",
       "      <th>start_Latitude</th>\n",
       "      <th>end_Longitude</th>\n",
       "      <th>end_Latitude</th>\n",
       "      <th>wea_conditions</th>\n",
       "      <th>...</th>\n",
       "      <th>wea_dptemp</th>\n",
       "      <th>wea_humidity</th>\n",
       "      <th>wea_windspeed</th>\n",
       "      <th>wea_winddir</th>\n",
       "      <th>wea_visibility</th>\n",
       "      <th>wea_pressure</th>\n",
       "      <th>wea_precipitation</th>\n",
       "      <th>wea_fog</th>\n",
       "      <th>wea_rain</th>\n",
       "      <th>wea_snow</th>\n",
       "    </tr>\n",
       "  </thead>\n",
       "  <tbody>\n",
       "    <tr>\n",
       "      <th>0</th>\n",
       "      <td>8495</td>\n",
       "      <td>2016/05/18 23:53:00</td>\n",
       "      <td>model_B</td>\n",
       "      <td>1</td>\n",
       "      <td>Hawkins</td>\n",
       "      <td>-74.001488</td>\n",
       "      <td>40.741226</td>\n",
       "      <td>-73.949318</td>\n",
       "      <td>40.780621</td>\n",
       "      <td>Overcast</td>\n",
       "      <td>...</td>\n",
       "      <td>6.1</td>\n",
       "      <td>64.0</td>\n",
       "      <td>0.0</td>\n",
       "      <td>0</td>\n",
       "      <td>16.1</td>\n",
       "      <td>30.1</td>\n",
       "      <td>0.0</td>\n",
       "      <td>No</td>\n",
       "      <td>No</td>\n",
       "      <td>No</td>\n",
       "    </tr>\n",
       "    <tr>\n",
       "      <th>1</th>\n",
       "      <td>8496</td>\n",
       "      <td>2016/02/29 03:54:00</td>\n",
       "      <td>model_B</td>\n",
       "      <td>1</td>\n",
       "      <td>Hawkins</td>\n",
       "      <td>-73.973564</td>\n",
       "      <td>40.749073</td>\n",
       "      <td>-73.972549</td>\n",
       "      <td>40.760288</td>\n",
       "      <td>Clear</td>\n",
       "      <td>...</td>\n",
       "      <td>-1.1</td>\n",
       "      <td>46.0</td>\n",
       "      <td>9.3</td>\n",
       "      <td>0</td>\n",
       "      <td>16.1</td>\n",
       "      <td>29.6</td>\n",
       "      <td>NaN</td>\n",
       "      <td>No</td>\n",
       "      <td>No</td>\n",
       "      <td>No</td>\n",
       "    </tr>\n",
       "    <tr>\n",
       "      <th>2</th>\n",
       "      <td>8497</td>\n",
       "      <td>2016/04/06 09:52:00</td>\n",
       "      <td>model_B</td>\n",
       "      <td>1</td>\n",
       "      <td>Hawkins</td>\n",
       "      <td>-73.975304</td>\n",
       "      <td>40.790001</td>\n",
       "      <td>-74.014374</td>\n",
       "      <td>40.714127</td>\n",
       "      <td>Haze</td>\n",
       "      <td>...</td>\n",
       "      <td>17.8</td>\n",
       "      <td>71.0</td>\n",
       "      <td>9.3</td>\n",
       "      <td>250</td>\n",
       "      <td>8.0</td>\n",
       "      <td>30.0</td>\n",
       "      <td>NaN</td>\n",
       "      <td>No</td>\n",
       "      <td>No</td>\n",
       "      <td>No</td>\n",
       "    </tr>\n",
       "    <tr>\n",
       "      <th>3</th>\n",
       "      <td>8498</td>\n",
       "      <td>2016/04/12 06:52:00</td>\n",
       "      <td>model_B</td>\n",
       "      <td>2</td>\n",
       "      <td>Hawkins</td>\n",
       "      <td>-74.001671</td>\n",
       "      <td>40.730682</td>\n",
       "      <td>-73.980858</td>\n",
       "      <td>40.760967</td>\n",
       "      <td>Scattered_Clouds</td>\n",
       "      <td>...</td>\n",
       "      <td>-6.1</td>\n",
       "      <td>49.0</td>\n",
       "      <td>18.5</td>\n",
       "      <td>300</td>\n",
       "      <td>16.1</td>\n",
       "      <td>30.2</td>\n",
       "      <td>NaN</td>\n",
       "      <td>No</td>\n",
       "      <td>No</td>\n",
       "      <td>No</td>\n",
       "    </tr>\n",
       "    <tr>\n",
       "      <th>4</th>\n",
       "      <td>8499</td>\n",
       "      <td>2016/06/11 11:56:00</td>\n",
       "      <td>model_B</td>\n",
       "      <td>1</td>\n",
       "      <td>Hawkins</td>\n",
       "      <td>-73.973259</td>\n",
       "      <td>40.756893</td>\n",
       "      <td>-73.968254</td>\n",
       "      <td>40.767891</td>\n",
       "      <td>Clear</td>\n",
       "      <td>...</td>\n",
       "      <td>0.0</td>\n",
       "      <td>39.0</td>\n",
       "      <td>11.1</td>\n",
       "      <td>320</td>\n",
       "      <td>16.1</td>\n",
       "      <td>30.2</td>\n",
       "      <td>NaN</td>\n",
       "      <td>No</td>\n",
       "      <td>No</td>\n",
       "      <td>No</td>\n",
       "    </tr>\n",
       "  </tbody>\n",
       "</table>\n",
       "<p>5 rows × 21 columns</p>\n",
       "</div>"
      ],
      "text/plain": [
       "     id        starting_time model_van  num_packages     town  \\\n",
       "0  8495  2016/05/18 23:53:00   model_B             1  Hawkins   \n",
       "1  8496  2016/02/29 03:54:00   model_B             1  Hawkins   \n",
       "2  8497  2016/04/06 09:52:00   model_B             1  Hawkins   \n",
       "3  8498  2016/04/12 06:52:00   model_B             2  Hawkins   \n",
       "4  8499  2016/06/11 11:56:00   model_B             1  Hawkins   \n",
       "\n",
       "   start_Longitude  start_Latitude  end_Longitude  end_Latitude  \\\n",
       "0       -74.001488       40.741226     -73.949318     40.780621   \n",
       "1       -73.973564       40.749073     -73.972549     40.760288   \n",
       "2       -73.975304       40.790001     -74.014374     40.714127   \n",
       "3       -74.001671       40.730682     -73.980858     40.760967   \n",
       "4       -73.973259       40.756893     -73.968254     40.767891   \n",
       "\n",
       "     wea_conditions  ...  wea_dptemp  wea_humidity  wea_windspeed  \\\n",
       "0          Overcast  ...         6.1          64.0            0.0   \n",
       "1             Clear  ...        -1.1          46.0            9.3   \n",
       "2              Haze  ...        17.8          71.0            9.3   \n",
       "3  Scattered_Clouds  ...        -6.1          49.0           18.5   \n",
       "4             Clear  ...         0.0          39.0           11.1   \n",
       "\n",
       "   wea_winddir  wea_visibility  wea_pressure  wea_precipitation  wea_fog  \\\n",
       "0            0            16.1          30.1                0.0       No   \n",
       "1            0            16.1          29.6                NaN       No   \n",
       "2          250             8.0          30.0                NaN       No   \n",
       "3          300            16.1          30.2                NaN       No   \n",
       "4          320            16.1          30.2                NaN       No   \n",
       "\n",
       "  wea_rain wea_snow  \n",
       "0       No       No  \n",
       "1       No       No  \n",
       "2       No       No  \n",
       "3       No       No  \n",
       "4       No       No  \n",
       "\n",
       "[5 rows x 21 columns]"
      ]
     },
     "execution_count": 16,
     "metadata": {},
     "output_type": "execute_result"
    }
   ],
   "source": [
    "df.head()"
   ]
  },
  {
   "cell_type": "code",
   "execution_count": 17,
   "id": "38961e9f",
   "metadata": {},
   "outputs": [
    {
     "name": "stdout",
     "output_type": "stream",
     "text": [
      "<class 'pandas.core.frame.DataFrame'>\n",
      "Int64Index: 8496 entries, 0 to 8495\n",
      "Data columns (total 21 columns):\n",
      " #   Column             Non-Null Count  Dtype  \n",
      "---  ------             --------------  -----  \n",
      " 0   id                 8496 non-null   int64  \n",
      " 1   starting_time      8496 non-null   object \n",
      " 2   model_van          8496 non-null   object \n",
      " 3   num_packages       8496 non-null   int64  \n",
      " 4   town               8496 non-null   object \n",
      " 5   start_Longitude    8496 non-null   float64\n",
      " 6   start_Latitude     8496 non-null   float64\n",
      " 7   end_Longitude      8496 non-null   float64\n",
      " 8   end_Latitude       8496 non-null   float64\n",
      " 9   wea_conditions     8496 non-null   object \n",
      " 10  wea_temp           8487 non-null   float64\n",
      " 11  wea_dptemp         8487 non-null   float64\n",
      " 12  wea_humidity       8487 non-null   float64\n",
      " 13  wea_windspeed      7867 non-null   float64\n",
      " 14  wea_winddir        8496 non-null   int64  \n",
      " 15  wea_visibility     8266 non-null   float64\n",
      " 16  wea_pressure       8270 non-null   float64\n",
      " 17  wea_precipitation  1310 non-null   float64\n",
      " 18  wea_fog            8496 non-null   object \n",
      " 19  wea_rain           8496 non-null   object \n",
      " 20  wea_snow           8496 non-null   object \n",
      "dtypes: float64(11), int64(3), object(7)\n",
      "memory usage: 1.4+ MB\n"
     ]
    }
   ],
   "source": [
    "df.info()"
   ]
  },
  {
   "cell_type": "code",
   "execution_count": 18,
   "id": "8c034777",
   "metadata": {},
   "outputs": [
    {
     "data": {
      "text/plain": [
       "id                      0\n",
       "starting_time           0\n",
       "model_van               0\n",
       "num_packages            0\n",
       "town                    0\n",
       "start_Longitude         0\n",
       "start_Latitude          0\n",
       "end_Longitude           0\n",
       "end_Latitude            0\n",
       "wea_conditions          0\n",
       "wea_temp                9\n",
       "wea_dptemp              9\n",
       "wea_humidity            9\n",
       "wea_windspeed         629\n",
       "wea_winddir             0\n",
       "wea_visibility        230\n",
       "wea_pressure          226\n",
       "wea_precipitation    7186\n",
       "wea_fog                 0\n",
       "wea_rain                0\n",
       "wea_snow                0\n",
       "dtype: int64"
      ]
     },
     "execution_count": 18,
     "metadata": {},
     "output_type": "execute_result"
    }
   ],
   "source": [
    "df.isnull().sum()"
   ]
  },
  {
   "cell_type": "code",
   "execution_count": 19,
   "id": "b0adf1e9",
   "metadata": {},
   "outputs": [],
   "source": [
    "df['date'] = pd.to_datetime(df.starting_time).dt.date"
   ]
  },
  {
   "cell_type": "code",
   "execution_count": 20,
   "id": "ac71a184",
   "metadata": {},
   "outputs": [
    {
     "data": {
      "text/html": [
       "<div>\n",
       "<style scoped>\n",
       "    .dataframe tbody tr th:only-of-type {\n",
       "        vertical-align: middle;\n",
       "    }\n",
       "\n",
       "    .dataframe tbody tr th {\n",
       "        vertical-align: top;\n",
       "    }\n",
       "\n",
       "    .dataframe thead th {\n",
       "        text-align: right;\n",
       "    }\n",
       "</style>\n",
       "<table border=\"1\" class=\"dataframe\">\n",
       "  <thead>\n",
       "    <tr style=\"text-align: right;\">\n",
       "      <th></th>\n",
       "      <th>id</th>\n",
       "      <th>starting_time</th>\n",
       "      <th>model_van</th>\n",
       "      <th>num_packages</th>\n",
       "      <th>town</th>\n",
       "      <th>start_Longitude</th>\n",
       "      <th>start_Latitude</th>\n",
       "      <th>end_Longitude</th>\n",
       "      <th>end_Latitude</th>\n",
       "      <th>wea_conditions</th>\n",
       "      <th>...</th>\n",
       "      <th>wea_humidity</th>\n",
       "      <th>wea_windspeed</th>\n",
       "      <th>wea_winddir</th>\n",
       "      <th>wea_visibility</th>\n",
       "      <th>wea_pressure</th>\n",
       "      <th>wea_precipitation</th>\n",
       "      <th>wea_fog</th>\n",
       "      <th>wea_rain</th>\n",
       "      <th>wea_snow</th>\n",
       "      <th>date</th>\n",
       "    </tr>\n",
       "  </thead>\n",
       "  <tbody>\n",
       "    <tr>\n",
       "      <th>0</th>\n",
       "      <td>8495</td>\n",
       "      <td>2016/05/18 23:53:00</td>\n",
       "      <td>model_B</td>\n",
       "      <td>1</td>\n",
       "      <td>Hawkins</td>\n",
       "      <td>-74.001488</td>\n",
       "      <td>40.741226</td>\n",
       "      <td>-73.949318</td>\n",
       "      <td>40.780621</td>\n",
       "      <td>Overcast</td>\n",
       "      <td>...</td>\n",
       "      <td>64.0</td>\n",
       "      <td>0.0</td>\n",
       "      <td>0</td>\n",
       "      <td>16.1</td>\n",
       "      <td>30.1</td>\n",
       "      <td>0.0</td>\n",
       "      <td>No</td>\n",
       "      <td>No</td>\n",
       "      <td>No</td>\n",
       "      <td>2016-05-18</td>\n",
       "    </tr>\n",
       "    <tr>\n",
       "      <th>1</th>\n",
       "      <td>8496</td>\n",
       "      <td>2016/02/29 03:54:00</td>\n",
       "      <td>model_B</td>\n",
       "      <td>1</td>\n",
       "      <td>Hawkins</td>\n",
       "      <td>-73.973564</td>\n",
       "      <td>40.749073</td>\n",
       "      <td>-73.972549</td>\n",
       "      <td>40.760288</td>\n",
       "      <td>Clear</td>\n",
       "      <td>...</td>\n",
       "      <td>46.0</td>\n",
       "      <td>9.3</td>\n",
       "      <td>0</td>\n",
       "      <td>16.1</td>\n",
       "      <td>29.6</td>\n",
       "      <td>NaN</td>\n",
       "      <td>No</td>\n",
       "      <td>No</td>\n",
       "      <td>No</td>\n",
       "      <td>2016-02-29</td>\n",
       "    </tr>\n",
       "    <tr>\n",
       "      <th>2</th>\n",
       "      <td>8497</td>\n",
       "      <td>2016/04/06 09:52:00</td>\n",
       "      <td>model_B</td>\n",
       "      <td>1</td>\n",
       "      <td>Hawkins</td>\n",
       "      <td>-73.975304</td>\n",
       "      <td>40.790001</td>\n",
       "      <td>-74.014374</td>\n",
       "      <td>40.714127</td>\n",
       "      <td>Haze</td>\n",
       "      <td>...</td>\n",
       "      <td>71.0</td>\n",
       "      <td>9.3</td>\n",
       "      <td>250</td>\n",
       "      <td>8.0</td>\n",
       "      <td>30.0</td>\n",
       "      <td>NaN</td>\n",
       "      <td>No</td>\n",
       "      <td>No</td>\n",
       "      <td>No</td>\n",
       "      <td>2016-04-06</td>\n",
       "    </tr>\n",
       "    <tr>\n",
       "      <th>3</th>\n",
       "      <td>8498</td>\n",
       "      <td>2016/04/12 06:52:00</td>\n",
       "      <td>model_B</td>\n",
       "      <td>2</td>\n",
       "      <td>Hawkins</td>\n",
       "      <td>-74.001671</td>\n",
       "      <td>40.730682</td>\n",
       "      <td>-73.980858</td>\n",
       "      <td>40.760967</td>\n",
       "      <td>Scattered_Clouds</td>\n",
       "      <td>...</td>\n",
       "      <td>49.0</td>\n",
       "      <td>18.5</td>\n",
       "      <td>300</td>\n",
       "      <td>16.1</td>\n",
       "      <td>30.2</td>\n",
       "      <td>NaN</td>\n",
       "      <td>No</td>\n",
       "      <td>No</td>\n",
       "      <td>No</td>\n",
       "      <td>2016-04-12</td>\n",
       "    </tr>\n",
       "    <tr>\n",
       "      <th>4</th>\n",
       "      <td>8499</td>\n",
       "      <td>2016/06/11 11:56:00</td>\n",
       "      <td>model_B</td>\n",
       "      <td>1</td>\n",
       "      <td>Hawkins</td>\n",
       "      <td>-73.973259</td>\n",
       "      <td>40.756893</td>\n",
       "      <td>-73.968254</td>\n",
       "      <td>40.767891</td>\n",
       "      <td>Clear</td>\n",
       "      <td>...</td>\n",
       "      <td>39.0</td>\n",
       "      <td>11.1</td>\n",
       "      <td>320</td>\n",
       "      <td>16.1</td>\n",
       "      <td>30.2</td>\n",
       "      <td>NaN</td>\n",
       "      <td>No</td>\n",
       "      <td>No</td>\n",
       "      <td>No</td>\n",
       "      <td>2016-06-11</td>\n",
       "    </tr>\n",
       "  </tbody>\n",
       "</table>\n",
       "<p>5 rows × 22 columns</p>\n",
       "</div>"
      ],
      "text/plain": [
       "     id        starting_time model_van  num_packages     town  \\\n",
       "0  8495  2016/05/18 23:53:00   model_B             1  Hawkins   \n",
       "1  8496  2016/02/29 03:54:00   model_B             1  Hawkins   \n",
       "2  8497  2016/04/06 09:52:00   model_B             1  Hawkins   \n",
       "3  8498  2016/04/12 06:52:00   model_B             2  Hawkins   \n",
       "4  8499  2016/06/11 11:56:00   model_B             1  Hawkins   \n",
       "\n",
       "   start_Longitude  start_Latitude  end_Longitude  end_Latitude  \\\n",
       "0       -74.001488       40.741226     -73.949318     40.780621   \n",
       "1       -73.973564       40.749073     -73.972549     40.760288   \n",
       "2       -73.975304       40.790001     -74.014374     40.714127   \n",
       "3       -74.001671       40.730682     -73.980858     40.760967   \n",
       "4       -73.973259       40.756893     -73.968254     40.767891   \n",
       "\n",
       "     wea_conditions  ...  wea_humidity  wea_windspeed  wea_winddir  \\\n",
       "0          Overcast  ...          64.0            0.0            0   \n",
       "1             Clear  ...          46.0            9.3            0   \n",
       "2              Haze  ...          71.0            9.3          250   \n",
       "3  Scattered_Clouds  ...          49.0           18.5          300   \n",
       "4             Clear  ...          39.0           11.1          320   \n",
       "\n",
       "   wea_visibility  wea_pressure  wea_precipitation  wea_fog  wea_rain  \\\n",
       "0            16.1          30.1                0.0       No        No   \n",
       "1            16.1          29.6                NaN       No        No   \n",
       "2             8.0          30.0                NaN       No        No   \n",
       "3            16.1          30.2                NaN       No        No   \n",
       "4            16.1          30.2                NaN       No        No   \n",
       "\n",
       "  wea_snow        date  \n",
       "0       No  2016-05-18  \n",
       "1       No  2016-02-29  \n",
       "2       No  2016-04-06  \n",
       "3       No  2016-04-12  \n",
       "4       No  2016-06-11  \n",
       "\n",
       "[5 rows x 22 columns]"
      ]
     },
     "execution_count": 20,
     "metadata": {},
     "output_type": "execute_result"
    }
   ],
   "source": [
    "df.head()"
   ]
  },
  {
   "cell_type": "code",
   "execution_count": 21,
   "id": "fc65e5b2",
   "metadata": {},
   "outputs": [],
   "source": [
    "#holidays"
   ]
  },
  {
   "cell_type": "code",
   "execution_count": 22,
   "id": "913c7c3f",
   "metadata": {},
   "outputs": [
    {
     "data": {
      "text/plain": [
       "array(['2016-01-01', '2016-01-18', '2016-02-12', '2016-02-15',\n",
       "       '2016-05-08', '2016-05-30', '2016-06-19', '2016-07-04',\n",
       "       '2016-09-05', '2016-10-10', '2016-11-11', '2016-11-24',\n",
       "       '2016-12-26'], dtype=object)"
      ]
     },
     "execution_count": 22,
     "metadata": {},
     "output_type": "execute_result"
    }
   ],
   "source": [
    "holidays_list = holidays.date.values\n",
    "holidays_list"
   ]
  },
  {
   "cell_type": "code",
   "execution_count": 23,
   "id": "81a0b1ba",
   "metadata": {},
   "outputs": [],
   "source": [
    "holiday = []\n",
    "for i in df.date.values:\n",
    "    if str(i) in holidays_list:\n",
    "        holiday.append('Y')\n",
    "    else:\n",
    "        holiday.append('N')"
   ]
  },
  {
   "cell_type": "code",
   "execution_count": 24,
   "id": "e3b0c61b",
   "metadata": {},
   "outputs": [],
   "source": [
    "df['holidays'] = holiday"
   ]
  },
  {
   "cell_type": "code",
   "execution_count": 25,
   "id": "47f17a6f",
   "metadata": {},
   "outputs": [
    {
     "data": {
      "text/plain": [
       "N    8203\n",
       "Y     293\n",
       "Name: holidays, dtype: int64"
      ]
     },
     "execution_count": 25,
     "metadata": {},
     "output_type": "execute_result"
    }
   ],
   "source": [
    "df['holidays'].value_counts()"
   ]
  },
  {
   "cell_type": "code",
   "execution_count": 26,
   "id": "06911c7c",
   "metadata": {},
   "outputs": [],
   "source": [
    "df.starting_time = pd.to_datetime(df.starting_time)"
   ]
  },
  {
   "cell_type": "code",
   "execution_count": 27,
   "id": "fa3211f8",
   "metadata": {},
   "outputs": [
    {
     "data": {
      "text/plain": [
       "0"
      ]
     },
     "execution_count": 27,
     "metadata": {},
     "output_type": "execute_result"
    }
   ],
   "source": [
    "df.starting_time[0].second"
   ]
  },
  {
   "cell_type": "code",
   "execution_count": 28,
   "id": "c97e4d5c",
   "metadata": {},
   "outputs": [],
   "source": [
    "minute = [x.minute for x in df.starting_time]\n",
    "hour = [x.hour for x in df.starting_time]\n",
    "year = [x.year for x in df.starting_time]\n",
    "month = [x.month for x in df.starting_time]\n",
    "day = [x.day for x in df.starting_time]"
   ]
  },
  {
   "cell_type": "code",
   "execution_count": 29,
   "id": "3f7902b1",
   "metadata": {},
   "outputs": [],
   "source": [
    "df['year'] = year\n",
    "df['month'] = month\n",
    "df['day'] = day\n",
    "df['hour'] = hour\n",
    "df['minute'] = minute"
   ]
  },
  {
   "cell_type": "code",
   "execution_count": 30,
   "id": "ca18faa0",
   "metadata": {},
   "outputs": [
    {
     "data": {
      "text/plain": [
       "Index(['id', 'starting_time', 'model_van', 'num_packages', 'town',\n",
       "       'start_Longitude', 'start_Latitude', 'end_Longitude', 'end_Latitude',\n",
       "       'wea_conditions', 'wea_temp', 'wea_dptemp', 'wea_humidity',\n",
       "       'wea_windspeed', 'wea_winddir', 'wea_visibility', 'wea_pressure',\n",
       "       'wea_precipitation', 'wea_fog', 'wea_rain', 'wea_snow', 'date',\n",
       "       'holidays', 'year', 'month', 'day', 'hour', 'minute'],\n",
       "      dtype='object')"
      ]
     },
     "execution_count": 30,
     "metadata": {},
     "output_type": "execute_result"
    }
   ],
   "source": [
    "df.columns"
   ]
  },
  {
   "cell_type": "code",
   "execution_count": 32,
   "id": "1086de36",
   "metadata": {},
   "outputs": [],
   "source": [
    "submission_data = {'id' : df['id']}"
   ]
  },
  {
   "cell_type": "code",
   "execution_count": 33,
   "id": "cb65d297",
   "metadata": {},
   "outputs": [],
   "source": [
    "ignore_columns = ['id','starting_time','date']\n",
    "test_df = df.drop(ignore_columns,axis = 1)"
   ]
  },
  {
   "cell_type": "code",
   "execution_count": 34,
   "id": "b5fcc521",
   "metadata": {},
   "outputs": [
    {
     "data": {
      "text/plain": [
       "Index(['model_van', 'num_packages', 'town', 'start_Longitude',\n",
       "       'start_Latitude', 'end_Longitude', 'end_Latitude', 'wea_conditions',\n",
       "       'wea_temp', 'wea_dptemp', 'wea_humidity', 'wea_windspeed',\n",
       "       'wea_winddir', 'wea_visibility', 'wea_pressure', 'wea_precipitation',\n",
       "       'wea_fog', 'wea_rain', 'wea_snow', 'holidays', 'year', 'month', 'day',\n",
       "       'hour', 'minute'],\n",
       "      dtype='object')"
      ]
     },
     "execution_count": 34,
     "metadata": {},
     "output_type": "execute_result"
    }
   ],
   "source": [
    "test_df.columns"
   ]
  },
  {
   "cell_type": "code",
   "execution_count": 84,
   "id": "01f82130",
   "metadata": {},
   "outputs": [],
   "source": [
    "# X = train_df.drop('delivery_time' , axis = 1)\n",
    "# y = train_df['delivery_time']"
   ]
  },
  {
   "cell_type": "code",
   "execution_count": 35,
   "id": "1e770326",
   "metadata": {},
   "outputs": [],
   "source": [
    "# from sklearn.model_selection import train_test_split\n",
    "# X_train , X_test , y_train , y_test = train_test_split(X , y)\n",
    "# X_train.shape , y_train.shape , X_test.shape , y_test.shape"
   ]
  },
  {
   "cell_type": "code",
   "execution_count": 37,
   "id": "1eb421f8",
   "metadata": {},
   "outputs": [],
   "source": [
    "cat_vars = ['model_van','wea_conditions', 'wea_fog' , 'wea_rain','wea_snow']\n",
    "num_vars = list(set(test_df.columns) - set(cat_vars))"
   ]
  },
  {
   "cell_type": "code",
   "execution_count": 38,
   "id": "496ec614",
   "metadata": {},
   "outputs": [
    {
     "data": {
      "text/plain": [
       "25"
      ]
     },
     "execution_count": 38,
     "metadata": {},
     "output_type": "execute_result"
    }
   ],
   "source": [
    "len(cat_vars) + len(num_vars)"
   ]
  },
  {
   "cell_type": "code",
   "execution_count": 39,
   "id": "45041a64",
   "metadata": {},
   "outputs": [
    {
     "data": {
      "text/plain": [
       "num_packages            1.000000\n",
       "start_Longitude       -73.981834\n",
       "start_Latitude         40.754435\n",
       "end_Longitude         -73.980003\n",
       "end_Latitude           40.755392\n",
       "wea_temp               11.100000\n",
       "wea_dptemp              2.800000\n",
       "wea_humidity           55.000000\n",
       "wea_windspeed           9.300000\n",
       "wea_winddir             0.000000\n",
       "wea_visibility         16.100000\n",
       "wea_pressure           30.000000\n",
       "wea_precipitation       0.500000\n",
       "year                 2016.000000\n",
       "month                   3.000000\n",
       "day                    15.000000\n",
       "hour                   14.000000\n",
       "minute                 53.000000\n",
       "dtype: float64"
      ]
     },
     "execution_count": 39,
     "metadata": {},
     "output_type": "execute_result"
    }
   ],
   "source": [
    "test_df.median()"
   ]
  },
  {
   "cell_type": "code",
   "execution_count": 40,
   "id": "d7ff45b0",
   "metadata": {},
   "outputs": [],
   "source": [
    "test_df = test_df.fillna(test_df.median())\n"
   ]
  },
  {
   "cell_type": "code",
   "execution_count": 50,
   "id": "b8915ce5",
   "metadata": {},
   "outputs": [],
   "source": [
    "from sklearn.preprocessing import StandardScaler , OneHotEncoder"
   ]
  },
  {
   "cell_type": "code",
   "execution_count": 41,
   "id": "0c6b9632",
   "metadata": {},
   "outputs": [],
   "source": [
    "test_df = pd.get_dummies(test_df , drop_first = True)\n"
   ]
  },
  {
   "cell_type": "code",
   "execution_count": 42,
   "id": "82e90b0a",
   "metadata": {},
   "outputs": [
    {
     "data": {
      "text/plain": [
       "(8496, 36)"
      ]
     },
     "execution_count": 42,
     "metadata": {},
     "output_type": "execute_result"
    }
   ],
   "source": [
    "test_df.shape"
   ]
  },
  {
   "cell_type": "code",
   "execution_count": 43,
   "id": "f3357c75",
   "metadata": {},
   "outputs": [
    {
     "data": {
      "text/plain": [
       "Index(['num_packages', 'start_Longitude', 'start_Latitude', 'end_Longitude',\n",
       "       'end_Latitude', 'wea_temp', 'wea_dptemp', 'wea_humidity',\n",
       "       'wea_windspeed', 'wea_winddir', 'wea_visibility', 'wea_pressure',\n",
       "       'wea_precipitation', 'year', 'month', 'day', 'hour', 'minute',\n",
       "       'model_van_model_B', 'wea_conditions_Haze', 'wea_conditions_Heavy_Rain',\n",
       "       'wea_conditions_Heavy_Snow', 'wea_conditions_Light_Freezing_Rain',\n",
       "       'wea_conditions_Light_Rain', 'wea_conditions_Light_Snow',\n",
       "       'wea_conditions_Mostly_Cloudy', 'wea_conditions_Overcast',\n",
       "       'wea_conditions_Partly_Cloudy', 'wea_conditions_Rain',\n",
       "       'wea_conditions_Scattered_Clouds', 'wea_conditions_Snow',\n",
       "       'wea_conditions_Unknown', 'wea_fog_Y', 'wea_rain_Y', 'wea_snow_Y',\n",
       "       'holidays_Y'],\n",
       "      dtype='object')"
      ]
     },
     "execution_count": 43,
     "metadata": {},
     "output_type": "execute_result"
    }
   ],
   "source": [
    "test_df.columns"
   ]
  },
  {
   "cell_type": "code",
   "execution_count": 44,
   "id": "88fba5fb",
   "metadata": {},
   "outputs": [
    {
     "data": {
      "text/plain": [
       "{'wea_conditions_Heavy_Snow'}"
      ]
     },
     "execution_count": 44,
     "metadata": {},
     "output_type": "execute_result"
    }
   ],
   "source": [
    "set(['num_packages', 'start_Longitude', 'start_Latitude', 'end_Longitude',\n",
    "       'end_Latitude', 'wea_temp', 'wea_dptemp', 'wea_humidity',\n",
    "       'wea_windspeed', 'wea_winddir', 'wea_visibility', 'wea_pressure',\n",
    "       'wea_precipitation', 'year', 'month', 'day', 'hour', 'minute',\n",
    "       'model_van_model_B', 'wea_conditions_Haze', 'wea_conditions_Heavy_Rain',\n",
    "       'wea_conditions_Heavy_Snow', 'wea_conditions_Light_Freezing_Rain',\n",
    "       'wea_conditions_Light_Rain', 'wea_conditions_Light_Snow',\n",
    "       'wea_conditions_Mostly_Cloudy', 'wea_conditions_Overcast',\n",
    "       'wea_conditions_Partly_Cloudy', 'wea_conditions_Rain',\n",
    "       'wea_conditions_Scattered_Clouds', 'wea_conditions_Snow',\n",
    "       'wea_conditions_Unknown', 'wea_fog_Y', 'wea_rain_Y', 'wea_snow_Y',\n",
    "       'holidays_Y']) - set(['num_packages', 'start_Longitude', 'start_Latitude', 'end_Longitude',\n",
    "       'end_Latitude', 'wea_temp', 'wea_dptemp', 'wea_humidity',\n",
    "       'wea_windspeed', 'wea_winddir', 'wea_visibility', 'wea_pressure',\n",
    "       'wea_precipitation', 'year', 'month', 'day', 'hour', 'minute',\n",
    "       'model_van_model_B', 'wea_conditions_Haze', 'wea_conditions_Heavy_Rain',\n",
    "       'wea_conditions_Light_Freezing_Rain', 'wea_conditions_Light_Rain',\n",
    "       'wea_conditions_Light_Snow', 'wea_conditions_Mostly_Cloudy',\n",
    "       'wea_conditions_Overcast', 'wea_conditions_Partly_Cloudy',\n",
    "       'wea_conditions_Rain', 'wea_conditions_Scattered_Clouds',\n",
    "       'wea_conditions_Snow', 'wea_conditions_Unknown', 'wea_fog_Y',\n",
    "       'wea_rain_Y', 'wea_snow_Y', 'holidays_Y'])"
   ]
  },
  {
   "cell_type": "code",
   "execution_count": 46,
   "id": "3217f9cb",
   "metadata": {},
   "outputs": [],
   "source": [
    "test_df = test_df.drop('wea_conditions_Heavy_Snow',axis = 1)"
   ]
  },
  {
   "cell_type": "code",
   "execution_count": 48,
   "id": "03006eeb",
   "metadata": {},
   "outputs": [
    {
     "data": {
      "text/plain": [
       "0"
      ]
     },
     "execution_count": 48,
     "metadata": {},
     "output_type": "execute_result"
    }
   ],
   "source": [
    "test_df.isnull().sum().sum()"
   ]
  },
  {
   "cell_type": "code",
   "execution_count": 51,
   "id": "116b2512",
   "metadata": {},
   "outputs": [],
   "source": [
    "scaler = StandardScaler().fit(test_df)\n",
    "test_df_std = scaler.transform(test_df)"
   ]
  },
  {
   "cell_type": "code",
   "execution_count": 52,
   "id": "f0be279e",
   "metadata": {},
   "outputs": [
    {
     "data": {
      "text/plain": [
       "(8496, 35)"
      ]
     },
     "execution_count": 52,
     "metadata": {},
     "output_type": "execute_result"
    }
   ],
   "source": [
    "test_df_std.shape"
   ]
  },
  {
   "cell_type": "code",
   "execution_count": 53,
   "id": "b94f8994",
   "metadata": {},
   "outputs": [],
   "source": [
    "from sklearn.ensemble import RandomForestRegressor"
   ]
  },
  {
   "cell_type": "code",
   "execution_count": 61,
   "id": "be166057",
   "metadata": {},
   "outputs": [],
   "source": [
    "import pickle\n",
    "\n",
    "# and later you can load it\n",
    "with open('best_model.pkl', 'rb') as f:\n",
    "    regr = pickle.load(f)"
   ]
  },
  {
   "cell_type": "code",
   "execution_count": 64,
   "id": "8441e8a2",
   "metadata": {},
   "outputs": [],
   "source": [
    "y = regr.predict(test_df_std)"
   ]
  },
  {
   "cell_type": "code",
   "execution_count": 63,
   "id": "9389f607",
   "metadata": {},
   "outputs": [
    {
     "data": {
      "text/plain": [
       "769.5723734368128"
      ]
     },
     "execution_count": 63,
     "metadata": {},
     "output_type": "execute_result"
    }
   ],
   "source": [
    "y.mean()"
   ]
  },
  {
   "cell_type": "code",
   "execution_count": 65,
   "id": "fbcfcf5f",
   "metadata": {},
   "outputs": [
    {
     "data": {
      "text/plain": [
       "769.5723734368128"
      ]
     },
     "execution_count": 65,
     "metadata": {},
     "output_type": "execute_result"
    }
   ],
   "source": [
    "y.mean()"
   ]
  },
  {
   "cell_type": "code",
   "execution_count": 66,
   "id": "9a59be5f",
   "metadata": {},
   "outputs": [],
   "source": [
    "submission_data['delivery_time'] = y"
   ]
  },
  {
   "cell_type": "code",
   "execution_count": 67,
   "id": "94aec3c3",
   "metadata": {},
   "outputs": [],
   "source": [
    "pd.DataFrame(submission_data).to_csv('submission.csv',index = False)"
   ]
  },
  {
   "cell_type": "code",
   "execution_count": null,
   "id": "fcc5ece7",
   "metadata": {},
   "outputs": [],
   "source": []
  }
 ],
 "metadata": {
  "kernelspec": {
   "display_name": "Python 3",
   "language": "python",
   "name": "python3"
  },
  "language_info": {
   "codemirror_mode": {
    "name": "ipython",
    "version": 3
   },
   "file_extension": ".py",
   "mimetype": "text/x-python",
   "name": "python",
   "nbconvert_exporter": "python",
   "pygments_lexer": "ipython3",
   "version": "3.8.8"
  }
 },
 "nbformat": 4,
 "nbformat_minor": 5
}
